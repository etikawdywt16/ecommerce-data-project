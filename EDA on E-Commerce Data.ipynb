{
 "cells": [
  {
   "cell_type": "markdown",
   "id": "03883f0d",
   "metadata": {},
   "source": [
    "Import libraries required to do the preparation and exploration data."
   ]
  },
  {
   "cell_type": "code",
   "execution_count": 1,
   "id": "4c0533b5",
   "metadata": {},
   "outputs": [],
   "source": [
    "import sqlite3\n",
    "import pandas as pd\n",
    "import seaborn as sns\n",
    "import numpy as np\n",
    "import matplotlib.pyplot as plt\n",
    "import matplotlib.dates as mdates\n",
    "import geopy.distance\n",
    "from datetime import datetime\n",
    "import warnings\n",
    "warnings.filterwarnings(\"ignore\") "
   ]
  },
  {
   "cell_type": "markdown",
   "id": "77dd71b2",
   "metadata": {},
   "source": [
    "Defined function to access the database."
   ]
  },
  {
   "cell_type": "code",
   "execution_count": 2,
   "id": "fe702e32",
   "metadata": {},
   "outputs": [],
   "source": [
    "def get_result(query):\n",
    "    \"\"\"\n",
    "    Parameters\n",
    "    ==========\n",
    "    query : str\n",
    "            SQL query to access table from the database\n",
    "            \n",
    "    Returns\n",
    "    ==========\n",
    "    data : list\n",
    "           table in the database\n",
    "    \n",
    "    \"\"\"\n",
    "    \n",
    "    conn = sqlite3.connect(\"olist.db\")\n",
    "    cursor = conn.cursor()\n",
    "    cursor.execute(query)\n",
    "    data = cursor.fetchall()\n",
    "    conn.close()\n",
    "    return data\n",
    "\n",
    "def create_df(data, columns):\n",
    "    \"\"\"\n",
    "    Parameters\n",
    "    ==========\n",
    "    data : list\n",
    "           table to transform in data frame\n",
    "    \n",
    "    columns : list\n",
    "              header of table\n",
    "            \n",
    "    Returns\n",
    "    ==========\n",
    "    data in data frame format\n",
    "    \"\"\"\n",
    "    \n",
    "    return pd.DataFrame(data = data, columns = columns).drop([\"index\"], axis = 1)"
   ]
  },
  {
   "cell_type": "markdown",
   "id": "0f43cd02",
   "metadata": {},
   "source": [
    "In order to answer our questions, we need some tables from the database. First, we use data from the *olist_order_dataset* table."
   ]
  },
  {
   "cell_type": "code",
   "execution_count": 3,
   "id": "ec9f991a",
   "metadata": {},
   "outputs": [],
   "source": [
    "orders = create_df(get_result(\"SELECT * FROM olist_order_dataset\"),\n",
    "                   [\n",
    "                       \n",
    "                       \"index\",\n",
    "                       \"order_id\",\n",
    "                       \"customer_id\",\n",
    "                       \"order_status\",\n",
    "                       \"order_purchase_timestamp\",\n",
    "                       \"order_approved_at\",\n",
    "                       \"order_delivered_carrier_date\",\n",
    "                       \"order_delivered_customer_date\",\n",
    "                       \"order_estimated_delivery_date\"\n",
    "                   ])"
   ]
  },
  {
   "cell_type": "code",
   "execution_count": 4,
   "id": "c6717324",
   "metadata": {
    "scrolled": true
   },
   "outputs": [
    {
     "data": {
      "text/html": [
       "<div>\n",
       "<style scoped>\n",
       "    .dataframe tbody tr th:only-of-type {\n",
       "        vertical-align: middle;\n",
       "    }\n",
       "\n",
       "    .dataframe tbody tr th {\n",
       "        vertical-align: top;\n",
       "    }\n",
       "\n",
       "    .dataframe thead th {\n",
       "        text-align: right;\n",
       "    }\n",
       "</style>\n",
       "<table border=\"1\" class=\"dataframe\">\n",
       "  <thead>\n",
       "    <tr style=\"text-align: right;\">\n",
       "      <th></th>\n",
       "      <th>order_id</th>\n",
       "      <th>customer_id</th>\n",
       "      <th>order_status</th>\n",
       "      <th>order_purchase_timestamp</th>\n",
       "      <th>order_approved_at</th>\n",
       "      <th>order_delivered_carrier_date</th>\n",
       "      <th>order_delivered_customer_date</th>\n",
       "      <th>order_estimated_delivery_date</th>\n",
       "    </tr>\n",
       "  </thead>\n",
       "  <tbody>\n",
       "    <tr>\n",
       "      <th>0</th>\n",
       "      <td>e481f51cbdc54678b7cc49136f2d6af7</td>\n",
       "      <td>9ef432eb6251297304e76186b10a928d</td>\n",
       "      <td>delivered</td>\n",
       "      <td>2017-10-02 10:56:33</td>\n",
       "      <td>2017-10-02 11:07:15</td>\n",
       "      <td>2017-10-04 19:55:00</td>\n",
       "      <td>2017-10-10 21:25:13</td>\n",
       "      <td>2017-10-18 00:00:00</td>\n",
       "    </tr>\n",
       "    <tr>\n",
       "      <th>1</th>\n",
       "      <td>53cdb2fc8bc7dce0b6741e2150273451</td>\n",
       "      <td>b0830fb4747a6c6d20dea0b8c802d7ef</td>\n",
       "      <td>delivered</td>\n",
       "      <td>2018-07-24 20:41:37</td>\n",
       "      <td>2018-07-26 03:24:27</td>\n",
       "      <td>2018-07-26 14:31:00</td>\n",
       "      <td>2018-08-07 15:27:45</td>\n",
       "      <td>2018-08-13 00:00:00</td>\n",
       "    </tr>\n",
       "    <tr>\n",
       "      <th>2</th>\n",
       "      <td>47770eb9100c2d0c44946d9cf07ec65d</td>\n",
       "      <td>41ce2a54c0b03bf3443c3d931a367089</td>\n",
       "      <td>delivered</td>\n",
       "      <td>2018-08-08 08:38:49</td>\n",
       "      <td>2018-08-08 08:55:23</td>\n",
       "      <td>2018-08-08 13:50:00</td>\n",
       "      <td>2018-08-17 18:06:29</td>\n",
       "      <td>2018-09-04 00:00:00</td>\n",
       "    </tr>\n",
       "    <tr>\n",
       "      <th>3</th>\n",
       "      <td>949d5b44dbf5de918fe9c16f97b45f8a</td>\n",
       "      <td>f88197465ea7920adcdbec7375364d82</td>\n",
       "      <td>delivered</td>\n",
       "      <td>2017-11-18 19:28:06</td>\n",
       "      <td>2017-11-18 19:45:59</td>\n",
       "      <td>2017-11-22 13:39:59</td>\n",
       "      <td>2017-12-02 00:28:42</td>\n",
       "      <td>2017-12-15 00:00:00</td>\n",
       "    </tr>\n",
       "    <tr>\n",
       "      <th>4</th>\n",
       "      <td>ad21c59c0840e6cb83a9ceb5573f8159</td>\n",
       "      <td>8ab97904e6daea8866dbdbc4fb7aad2c</td>\n",
       "      <td>delivered</td>\n",
       "      <td>2018-02-13 21:18:39</td>\n",
       "      <td>2018-02-13 22:20:29</td>\n",
       "      <td>2018-02-14 19:46:34</td>\n",
       "      <td>2018-02-16 18:17:02</td>\n",
       "      <td>2018-02-26 00:00:00</td>\n",
       "    </tr>\n",
       "  </tbody>\n",
       "</table>\n",
       "</div>"
      ],
      "text/plain": [
       "                           order_id                       customer_id  \\\n",
       "0  e481f51cbdc54678b7cc49136f2d6af7  9ef432eb6251297304e76186b10a928d   \n",
       "1  53cdb2fc8bc7dce0b6741e2150273451  b0830fb4747a6c6d20dea0b8c802d7ef   \n",
       "2  47770eb9100c2d0c44946d9cf07ec65d  41ce2a54c0b03bf3443c3d931a367089   \n",
       "3  949d5b44dbf5de918fe9c16f97b45f8a  f88197465ea7920adcdbec7375364d82   \n",
       "4  ad21c59c0840e6cb83a9ceb5573f8159  8ab97904e6daea8866dbdbc4fb7aad2c   \n",
       "\n",
       "  order_status order_purchase_timestamp    order_approved_at  \\\n",
       "0    delivered      2017-10-02 10:56:33  2017-10-02 11:07:15   \n",
       "1    delivered      2018-07-24 20:41:37  2018-07-26 03:24:27   \n",
       "2    delivered      2018-08-08 08:38:49  2018-08-08 08:55:23   \n",
       "3    delivered      2017-11-18 19:28:06  2017-11-18 19:45:59   \n",
       "4    delivered      2018-02-13 21:18:39  2018-02-13 22:20:29   \n",
       "\n",
       "  order_delivered_carrier_date order_delivered_customer_date  \\\n",
       "0          2017-10-04 19:55:00           2017-10-10 21:25:13   \n",
       "1          2018-07-26 14:31:00           2018-08-07 15:27:45   \n",
       "2          2018-08-08 13:50:00           2018-08-17 18:06:29   \n",
       "3          2017-11-22 13:39:59           2017-12-02 00:28:42   \n",
       "4          2018-02-14 19:46:34           2018-02-16 18:17:02   \n",
       "\n",
       "  order_estimated_delivery_date  \n",
       "0           2017-10-18 00:00:00  \n",
       "1           2018-08-13 00:00:00  \n",
       "2           2018-09-04 00:00:00  \n",
       "3           2017-12-15 00:00:00  \n",
       "4           2018-02-26 00:00:00  "
      ]
     },
     "execution_count": 4,
     "metadata": {},
     "output_type": "execute_result"
    }
   ],
   "source": [
    "orders.head()"
   ]
  },
  {
   "cell_type": "markdown",
   "id": "336462eb",
   "metadata": {},
   "source": [
    "After accessing the table, we will check the table info to know whether the data types have matched the data values."
   ]
  },
  {
   "cell_type": "code",
   "execution_count": 5,
   "id": "eddbcdf4",
   "metadata": {},
   "outputs": [
    {
     "name": "stdout",
     "output_type": "stream",
     "text": [
      "<class 'pandas.core.frame.DataFrame'>\n",
      "RangeIndex: 99441 entries, 0 to 99440\n",
      "Data columns (total 8 columns):\n",
      " #   Column                         Non-Null Count  Dtype \n",
      "---  ------                         --------------  ----- \n",
      " 0   order_id                       99441 non-null  object\n",
      " 1   customer_id                    99441 non-null  object\n",
      " 2   order_status                   99441 non-null  object\n",
      " 3   order_purchase_timestamp       99441 non-null  object\n",
      " 4   order_approved_at              99281 non-null  object\n",
      " 5   order_delivered_carrier_date   97658 non-null  object\n",
      " 6   order_delivered_customer_date  96476 non-null  object\n",
      " 7   order_estimated_delivery_date  99441 non-null  object\n",
      "dtypes: object(8)\n",
      "memory usage: 6.1+ MB\n"
     ]
    }
   ],
   "source": [
    "orders.info()"
   ]
  },
  {
   "cell_type": "markdown",
   "id": "c1dc0569",
   "metadata": {},
   "source": [
    "There are 99441 entries in the table with 8 columns. Some columns have null values and data types that don't match the values. \n",
    "\n",
    "*order_purchase_timestamp*, *order_approved_at*, *order_delivered_carrier_date*, *order_delivered_customer_date*, and *order_estimated_delivery_date* columns is supposed to be datetime data type. In order to fix that, we will change the data type."
   ]
  },
  {
   "cell_type": "code",
   "execution_count": 6,
   "id": "a9b361f2",
   "metadata": {},
   "outputs": [
    {
     "name": "stdout",
     "output_type": "stream",
     "text": [
      "<class 'pandas.core.frame.DataFrame'>\n",
      "RangeIndex: 99441 entries, 0 to 99440\n",
      "Data columns (total 8 columns):\n",
      " #   Column                         Non-Null Count  Dtype         \n",
      "---  ------                         --------------  -----         \n",
      " 0   order_id                       99441 non-null  object        \n",
      " 1   customer_id                    99441 non-null  object        \n",
      " 2   order_status                   99441 non-null  object        \n",
      " 3   order_purchase_timestamp       99441 non-null  datetime64[ns]\n",
      " 4   order_approved_at              99281 non-null  datetime64[ns]\n",
      " 5   order_delivered_carrier_date   97658 non-null  datetime64[ns]\n",
      " 6   order_delivered_customer_date  96476 non-null  datetime64[ns]\n",
      " 7   order_estimated_delivery_date  99441 non-null  datetime64[ns]\n",
      "dtypes: datetime64[ns](5), object(3)\n",
      "memory usage: 6.1+ MB\n"
     ]
    }
   ],
   "source": [
    "date_type = [\"order_purchase_timestamp\", \n",
    "             \"order_approved_at\", \n",
    "             \"order_delivered_carrier_date\", \n",
    "             \"order_delivered_customer_date\",\n",
    "             \"order_estimated_delivery_date\"]\n",
    "\n",
    "orders[date_type] = pd.to_datetime(orders[date_type].stack()).unstack()\n",
    "\n",
    "orders.info()"
   ]
  },
  {
   "cell_type": "markdown",
   "id": "7f495e6e",
   "metadata": {},
   "source": [
    "After that, we want to see how many missing values are in the data and what can we do to them."
   ]
  },
  {
   "cell_type": "code",
   "execution_count": 7,
   "id": "17c55a91",
   "metadata": {},
   "outputs": [],
   "source": [
    "missing_values = orders.isnull().sum()\n",
    "percent_missing = orders.isnull().sum() * 100 / len(orders)\n",
    "missing_value_orders = pd.DataFrame({\"missing_values\": missing_values,\n",
    "                                     \"percent_missing_values\": round(percent_missing, 2)})"
   ]
  },
  {
   "cell_type": "code",
   "execution_count": 8,
   "id": "93561e21",
   "metadata": {},
   "outputs": [
    {
     "data": {
      "text/html": [
       "<div>\n",
       "<style scoped>\n",
       "    .dataframe tbody tr th:only-of-type {\n",
       "        vertical-align: middle;\n",
       "    }\n",
       "\n",
       "    .dataframe tbody tr th {\n",
       "        vertical-align: top;\n",
       "    }\n",
       "\n",
       "    .dataframe thead th {\n",
       "        text-align: right;\n",
       "    }\n",
       "</style>\n",
       "<table border=\"1\" class=\"dataframe\">\n",
       "  <thead>\n",
       "    <tr style=\"text-align: right;\">\n",
       "      <th></th>\n",
       "      <th>missing_values</th>\n",
       "      <th>percent_missing_values</th>\n",
       "    </tr>\n",
       "  </thead>\n",
       "  <tbody>\n",
       "    <tr>\n",
       "      <th>order_id</th>\n",
       "      <td>0</td>\n",
       "      <td>0.00</td>\n",
       "    </tr>\n",
       "    <tr>\n",
       "      <th>customer_id</th>\n",
       "      <td>0</td>\n",
       "      <td>0.00</td>\n",
       "    </tr>\n",
       "    <tr>\n",
       "      <th>order_status</th>\n",
       "      <td>0</td>\n",
       "      <td>0.00</td>\n",
       "    </tr>\n",
       "    <tr>\n",
       "      <th>order_purchase_timestamp</th>\n",
       "      <td>0</td>\n",
       "      <td>0.00</td>\n",
       "    </tr>\n",
       "    <tr>\n",
       "      <th>order_approved_at</th>\n",
       "      <td>160</td>\n",
       "      <td>0.16</td>\n",
       "    </tr>\n",
       "    <tr>\n",
       "      <th>order_delivered_carrier_date</th>\n",
       "      <td>1783</td>\n",
       "      <td>1.79</td>\n",
       "    </tr>\n",
       "    <tr>\n",
       "      <th>order_delivered_customer_date</th>\n",
       "      <td>2965</td>\n",
       "      <td>2.98</td>\n",
       "    </tr>\n",
       "    <tr>\n",
       "      <th>order_estimated_delivery_date</th>\n",
       "      <td>0</td>\n",
       "      <td>0.00</td>\n",
       "    </tr>\n",
       "  </tbody>\n",
       "</table>\n",
       "</div>"
      ],
      "text/plain": [
       "                               missing_values  percent_missing_values\n",
       "order_id                                    0                    0.00\n",
       "customer_id                                 0                    0.00\n",
       "order_status                                0                    0.00\n",
       "order_purchase_timestamp                    0                    0.00\n",
       "order_approved_at                         160                    0.16\n",
       "order_delivered_carrier_date             1783                    1.79\n",
       "order_delivered_customer_date            2965                    2.98\n",
       "order_estimated_delivery_date               0                    0.00"
      ]
     },
     "execution_count": 8,
     "metadata": {},
     "output_type": "execute_result"
    }
   ],
   "source": [
    "missing_value_orders"
   ]
  },
  {
   "cell_type": "markdown",
   "id": "b59d9bf3",
   "metadata": {},
   "source": [
    "As we can see that the missing values are a quite bit compare to all the available data (less than 5%). But, we want to see what is the *order_status* for the missing values.\n",
    "\n",
    "*order_status* for missing values in *order_approved_at* column:"
   ]
  },
  {
   "cell_type": "code",
   "execution_count": 9,
   "id": "de9f7405",
   "metadata": {},
   "outputs": [
    {
     "data": {
      "text/plain": [
       "canceled     141\n",
       "delivered     14\n",
       "created        5\n",
       "Name: order_status, dtype: int64"
      ]
     },
     "execution_count": 9,
     "metadata": {},
     "output_type": "execute_result"
    }
   ],
   "source": [
    "orders[orders[\"order_approved_at\"].isna()][\"order_status\"].value_counts()"
   ]
  },
  {
   "cell_type": "markdown",
   "id": "a6b67bc7",
   "metadata": {},
   "source": [
    "For the missing value in the *order_approved_at* column, some data are canceled and still on created which makes sense that there's no data yet in the *order_approved_at* column because the orders haven't been approved or not approved.\n",
    "\n",
    "And for the data with *order_status* delivered, we will check whether the other date (i.e. *order_delivered_carrier_date* and *order_delivered_customer_date*) are missing or not."
   ]
  },
  {
   "cell_type": "code",
   "execution_count": 10,
   "id": "1b9e0c5b",
   "metadata": {},
   "outputs": [
    {
     "data": {
      "text/plain": [
       "order_delivered_carrier_date     0\n",
       "order_delivered_customer_date    0\n",
       "dtype: int64"
      ]
     },
     "execution_count": 10,
     "metadata": {},
     "output_type": "execute_result"
    }
   ],
   "source": [
    "orders[(orders[\"order_approved_at\"].isna()) & \n",
    "       (orders[\"order_status\"] == \"delivered\")]\\\n",
    "[[\"order_delivered_carrier_date\",\"order_delivered_customer_date\"]].isna().sum()"
   ]
  },
  {
   "cell_type": "markdown",
   "id": "8d534c87",
   "metadata": {},
   "source": [
    "Turns out, the other dates are all available which means there is an error system so that *order_approved_at* data are not recorded.\n",
    "\n",
    "Next, we will see *order_status* for missing values in *order_delivered_carrier_date* columns:"
   ]
  },
  {
   "cell_type": "code",
   "execution_count": 11,
   "id": "65e47f49",
   "metadata": {},
   "outputs": [
    {
     "data": {
      "text/plain": [
       "unavailable    609\n",
       "canceled       550\n",
       "invoiced       314\n",
       "processing     301\n",
       "created          5\n",
       "delivered        2\n",
       "approved         2\n",
       "Name: order_status, dtype: int64"
      ]
     },
     "execution_count": 11,
     "metadata": {},
     "output_type": "execute_result"
    }
   ],
   "source": [
    "orders[orders[\"order_delivered_carrier_date\"].isna()][\"order_status\"].value_counts()"
   ]
  },
  {
   "cell_type": "markdown",
   "id": "279d3f57",
   "metadata": {},
   "source": [
    "For missing values in this column, some data are canceled, some are in process (approved, invoiced, processing, created), some are not recorded (delivered), and some are unavailable.\n",
    "\n",
    "So do the *order_delivered_customer_date* columns:"
   ]
  },
  {
   "cell_type": "code",
   "execution_count": 12,
   "id": "37876d6a",
   "metadata": {},
   "outputs": [
    {
     "data": {
      "text/plain": [
       "shipped        1107\n",
       "canceled        619\n",
       "unavailable     609\n",
       "invoiced        314\n",
       "processing      301\n",
       "delivered         8\n",
       "created           5\n",
       "approved          2\n",
       "Name: order_status, dtype: int64"
      ]
     },
     "execution_count": 12,
     "metadata": {},
     "output_type": "execute_result"
    }
   ],
   "source": [
    "orders[orders[\"order_delivered_customer_date\"].isna()][\"order_status\"].value_counts()"
   ]
  },
  {
   "cell_type": "markdown",
   "id": "ea64687e",
   "metadata": {},
   "source": [
    "Some data with missing values are canceled, some are in process (approved, invoiced, processing, created, shipped), some are not recorded (delivered), and some are unavailable.\n",
    "\n",
    "After the exploration above, we will do nothing to the missing value and let them as they are. The missing values will be processed depending on the question that will be answered later.\n",
    "\n",
    "Next, we will check if there are any duplicate data in the table."
   ]
  },
  {
   "cell_type": "code",
   "execution_count": 13,
   "id": "9bade0aa",
   "metadata": {},
   "outputs": [
    {
     "data": {
      "text/plain": [
       "0"
      ]
     },
     "execution_count": 13,
     "metadata": {},
     "output_type": "execute_result"
    }
   ],
   "source": [
    "orders.duplicated().sum()"
   ]
  },
  {
   "cell_type": "markdown",
   "id": "b55d6f66",
   "metadata": {},
   "source": [
    "There\"s no duplicated data in the table.\n",
    "\n",
    "Furthermore, we can use the data to answer the first questions.\n",
    "\n",
    "**1. How is the number of orders trending each month??**\n",
    "\n",
    "Specifically to answer this question, we must to exclude the data with *order_status* canceled because we only want to explore the data that have been approved. Order date is taken from *order_purchase_timestamp* column so in this case we only take 2 columns required i.e., *order_id* and *order_purchase_timestamp* columns."
   ]
  },
  {
   "cell_type": "code",
   "execution_count": 14,
   "id": "737c09b1",
   "metadata": {},
   "outputs": [],
   "source": [
    "orders_used = orders[orders[\"order_status\"] != \"canceled\"][[\"order_id\",\"order_purchase_timestamp\"]].copy()"
   ]
  },
  {
   "cell_type": "markdown",
   "id": "09c3d7f2",
   "metadata": {},
   "source": [
    "Down-sampling the data to see the number of orders each month."
   ]
  },
  {
   "cell_type": "code",
   "execution_count": 15,
   "id": "a2ed85c7",
   "metadata": {},
   "outputs": [],
   "source": [
    "figure_1 = orders_used.set_index(\"order_purchase_timestamp\")\\\n",
    "                      .resample(\"M\")\\\n",
    "                      .count()\\\n",
    "                      .reset_index()\\\n",
    "                      .rename(columns = {\"order_purchase_timestamp\":\"order_purchase_date\", \"order_id\":\"count\"})"
   ]
  },
  {
   "cell_type": "code",
   "execution_count": 16,
   "id": "35fcf3e3",
   "metadata": {},
   "outputs": [
    {
     "data": {
      "text/html": [
       "<div>\n",
       "<style scoped>\n",
       "    .dataframe tbody tr th:only-of-type {\n",
       "        vertical-align: middle;\n",
       "    }\n",
       "\n",
       "    .dataframe tbody tr th {\n",
       "        vertical-align: top;\n",
       "    }\n",
       "\n",
       "    .dataframe thead th {\n",
       "        text-align: right;\n",
       "    }\n",
       "</style>\n",
       "<table border=\"1\" class=\"dataframe\">\n",
       "  <thead>\n",
       "    <tr style=\"text-align: right;\">\n",
       "      <th></th>\n",
       "      <th>order_purchase_date</th>\n",
       "      <th>count</th>\n",
       "    </tr>\n",
       "  </thead>\n",
       "  <tbody>\n",
       "    <tr>\n",
       "      <th>0</th>\n",
       "      <td>2016-09-30</td>\n",
       "      <td>2</td>\n",
       "    </tr>\n",
       "    <tr>\n",
       "      <th>1</th>\n",
       "      <td>2016-10-31</td>\n",
       "      <td>300</td>\n",
       "    </tr>\n",
       "    <tr>\n",
       "      <th>2</th>\n",
       "      <td>2016-11-30</td>\n",
       "      <td>0</td>\n",
       "    </tr>\n",
       "    <tr>\n",
       "      <th>3</th>\n",
       "      <td>2016-12-31</td>\n",
       "      <td>1</td>\n",
       "    </tr>\n",
       "    <tr>\n",
       "      <th>4</th>\n",
       "      <td>2017-01-31</td>\n",
       "      <td>797</td>\n",
       "    </tr>\n",
       "  </tbody>\n",
       "</table>\n",
       "</div>"
      ],
      "text/plain": [
       "  order_purchase_date  count\n",
       "0          2016-09-30      2\n",
       "1          2016-10-31    300\n",
       "2          2016-11-30      0\n",
       "3          2016-12-31      1\n",
       "4          2017-01-31    797"
      ]
     },
     "execution_count": 16,
     "metadata": {},
     "output_type": "execute_result"
    }
   ],
   "source": [
    "figure_1.head()"
   ]
  },
  {
   "cell_type": "markdown",
   "id": "abb5d259",
   "metadata": {},
   "source": [
    "The data above is visualized in the figure below:"
   ]
  },
  {
   "cell_type": "code",
   "execution_count": 17,
   "id": "08406e92",
   "metadata": {},
   "outputs": [
    {
     "data": {
      "image/png": "[encoded data removed]",
      "text/plain": [
       "<Figure size 720x360 with 1 Axes>"
      ]
     },
     "metadata": {},
     "output_type": "display_data"
    }
   ],
   "source": [
    "# format color and size figure\n",
    "fig, ax = plt.subplots(facecolor = \"#ffffff\")\n",
    "fig.set_size_inches(10,5)\n",
    "\n",
    "# plot the data\n",
    "ax.plot(\"order_purchase_date\",\"count\", data = figure_1, color = \"purple\")\n",
    "\n",
    "# format x-axis\n",
    "ax.xaxis.set_major_formatter(mdates.DateFormatter(\"%b-%Y\"))\n",
    "\n",
    "# show title\n",
    "plt.title(\"Number of orders each month\")\n",
    "\n",
    "# show grid\n",
    "plt.grid()\n",
    "\n",
    "plt.show()"
   ]
  },
  {
   "cell_type": "markdown",
   "id": "0ff0af06",
   "metadata": {},
   "source": [
    "As we can see from the figure above, in lately 2016, the number of orders is not much, but increased from 2017 to 2018. In the last month, the number of orders dropped dramatically because the data is not recorded in a full month. Despite that, it's a good sign to our business that order activity increase steadily."
   ]
  },
  {
   "cell_type": "markdown",
   "id": "e768bfd3",
   "metadata": {},
   "source": [
    "**2. How is the order activity by time and day?**"
   ]
  },
  {
   "cell_type": "markdown",
   "id": "533bcecd",
   "metadata": {},
   "source": [
    "To answer this question, we can still use the same table as the question before. But in this case, we have to extract some features such as year, day, and hour of *order_purchase_timestamp* because we want to see at what day and time the customer frequently orders."
   ]
  },
  {
   "cell_type": "code",
   "execution_count": 18,
   "id": "895db516",
   "metadata": {},
   "outputs": [],
   "source": [
    "orders_used[\"order_purchase_year\"] = orders_used[\"order_purchase_timestamp\"].dt.year\n",
    "orders_used[\"order_purchase_day\"] = orders_used[\"order_purchase_timestamp\"].dt.dayofweek\n",
    "orders_used[\"order_purchase_hour\"] = orders_used[\"order_purchase_timestamp\"].dt.hour"
   ]
  },
  {
   "cell_type": "markdown",
   "id": "8aa66290",
   "metadata": {},
   "source": [
    "Next, we pivot the data to see the number of orders each day and time in table format."
   ]
  },
  {
   "cell_type": "code",
   "execution_count": 19,
   "id": "307bb9c2",
   "metadata": {},
   "outputs": [],
   "source": [
    "figure_2 = pd.pivot_table(orders_used[[\"order_id\",\"order_purchase_year\",\"order_purchase_day\",\"order_purchase_hour\"]], \n",
    "                          index = [\"order_purchase_year\",\"order_purchase_day\"], \n",
    "                          columns = \"order_purchase_hour\", \n",
    "                          aggfunc = \"count\")"
   ]
  },
  {
   "cell_type": "markdown",
   "id": "67facbad",
   "metadata": {},
   "source": [
    "Formatting pivot table."
   ]
  },
  {
   "cell_type": "code",
   "execution_count": 20,
   "id": "2def623d",
   "metadata": {},
   "outputs": [],
   "source": [
    "figure_2.columns = figure_2.columns.droplevel()\n",
    "figure_2.columns = figure_2.columns.rename(\"hour\")\n",
    "figure_2.index = figure_2.index.rename([\"year\",\"day\"])"
   ]
  },
  {
   "cell_type": "code",
   "execution_count": 21,
   "id": "7043651b",
   "metadata": {},
   "outputs": [
    {
     "data": {
      "text/html": [
       "<div>\n",
       "<style scoped>\n",
       "    .dataframe tbody tr th:only-of-type {\n",
       "        vertical-align: middle;\n",
       "    }\n",
       "\n",
       "    .dataframe tbody tr th {\n",
       "        vertical-align: top;\n",
       "    }\n",
       "\n",
       "    .dataframe thead th {\n",
       "        text-align: right;\n",
       "    }\n",
       "</style>\n",
       "<table border=\"1\" class=\"dataframe\">\n",
       "  <thead>\n",
       "    <tr style=\"text-align: right;\">\n",
       "      <th></th>\n",
       "      <th>hour</th>\n",
       "      <th>0</th>\n",
       "      <th>1</th>\n",
       "      <th>2</th>\n",
       "      <th>3</th>\n",
       "      <th>4</th>\n",
       "      <th>5</th>\n",
       "      <th>6</th>\n",
       "      <th>7</th>\n",
       "      <th>8</th>\n",
       "      <th>9</th>\n",
       "      <th>...</th>\n",
       "      <th>14</th>\n",
       "      <th>15</th>\n",
       "      <th>16</th>\n",
       "      <th>17</th>\n",
       "      <th>18</th>\n",
       "      <th>19</th>\n",
       "      <th>20</th>\n",
       "      <th>21</th>\n",
       "      <th>22</th>\n",
       "      <th>23</th>\n",
       "    </tr>\n",
       "    <tr>\n",
       "      <th>year</th>\n",
       "      <th>day</th>\n",
       "      <th></th>\n",
       "      <th></th>\n",
       "      <th></th>\n",
       "      <th></th>\n",
       "      <th></th>\n",
       "      <th></th>\n",
       "      <th></th>\n",
       "      <th></th>\n",
       "      <th></th>\n",
       "      <th></th>\n",
       "      <th></th>\n",
       "      <th></th>\n",
       "      <th></th>\n",
       "      <th></th>\n",
       "      <th></th>\n",
       "      <th></th>\n",
       "      <th></th>\n",
       "      <th></th>\n",
       "      <th></th>\n",
       "      <th></th>\n",
       "      <th></th>\n",
       "    </tr>\n",
       "  </thead>\n",
       "  <tbody>\n",
       "    <tr>\n",
       "      <th rowspan=\"7\" valign=\"top\">2016</th>\n",
       "      <th>0</th>\n",
       "      <td>1.0</td>\n",
       "      <td>NaN</td>\n",
       "      <td>1.0</td>\n",
       "      <td>NaN</td>\n",
       "      <td>2.0</td>\n",
       "      <td>NaN</td>\n",
       "      <td>NaN</td>\n",
       "      <td>2.0</td>\n",
       "      <td>1.0</td>\n",
       "      <td>4.0</td>\n",
       "      <td>...</td>\n",
       "      <td>2.0</td>\n",
       "      <td>6.0</td>\n",
       "      <td>5.0</td>\n",
       "      <td>2.0</td>\n",
       "      <td>2.0</td>\n",
       "      <td>NaN</td>\n",
       "      <td>NaN</td>\n",
       "      <td>1.0</td>\n",
       "      <td>4.0</td>\n",
       "      <td>NaN</td>\n",
       "    </tr>\n",
       "    <tr>\n",
       "      <th>1</th>\n",
       "      <td>NaN</td>\n",
       "      <td>NaN</td>\n",
       "      <td>NaN</td>\n",
       "      <td>NaN</td>\n",
       "      <td>NaN</td>\n",
       "      <td>NaN</td>\n",
       "      <td>NaN</td>\n",
       "      <td>NaN</td>\n",
       "      <td>NaN</td>\n",
       "      <td>3.0</td>\n",
       "      <td>...</td>\n",
       "      <td>4.0</td>\n",
       "      <td>7.0</td>\n",
       "      <td>6.0</td>\n",
       "      <td>2.0</td>\n",
       "      <td>3.0</td>\n",
       "      <td>4.0</td>\n",
       "      <td>1.0</td>\n",
       "      <td>4.0</td>\n",
       "      <td>4.0</td>\n",
       "      <td>5.0</td>\n",
       "    </tr>\n",
       "    <tr>\n",
       "      <th>2</th>\n",
       "      <td>1.0</td>\n",
       "      <td>1.0</td>\n",
       "      <td>NaN</td>\n",
       "      <td>NaN</td>\n",
       "      <td>NaN</td>\n",
       "      <td>NaN</td>\n",
       "      <td>NaN</td>\n",
       "      <td>1.0</td>\n",
       "      <td>4.0</td>\n",
       "      <td>2.0</td>\n",
       "      <td>...</td>\n",
       "      <td>4.0</td>\n",
       "      <td>2.0</td>\n",
       "      <td>1.0</td>\n",
       "      <td>5.0</td>\n",
       "      <td>1.0</td>\n",
       "      <td>1.0</td>\n",
       "      <td>4.0</td>\n",
       "      <td>2.0</td>\n",
       "      <td>4.0</td>\n",
       "      <td>1.0</td>\n",
       "    </tr>\n",
       "    <tr>\n",
       "      <th>3</th>\n",
       "      <td>2.0</td>\n",
       "      <td>NaN</td>\n",
       "      <td>1.0</td>\n",
       "      <td>NaN</td>\n",
       "      <td>NaN</td>\n",
       "      <td>NaN</td>\n",
       "      <td>NaN</td>\n",
       "      <td>2.0</td>\n",
       "      <td>2.0</td>\n",
       "      <td>3.0</td>\n",
       "      <td>...</td>\n",
       "      <td>2.0</td>\n",
       "      <td>2.0</td>\n",
       "      <td>4.0</td>\n",
       "      <td>3.0</td>\n",
       "      <td>3.0</td>\n",
       "      <td>2.0</td>\n",
       "      <td>3.0</td>\n",
       "      <td>NaN</td>\n",
       "      <td>3.0</td>\n",
       "      <td>2.0</td>\n",
       "    </tr>\n",
       "    <tr>\n",
       "      <th>4</th>\n",
       "      <td>1.0</td>\n",
       "      <td>NaN</td>\n",
       "      <td>1.0</td>\n",
       "      <td>NaN</td>\n",
       "      <td>NaN</td>\n",
       "      <td>NaN</td>\n",
       "      <td>NaN</td>\n",
       "      <td>NaN</td>\n",
       "      <td>3.0</td>\n",
       "      <td>2.0</td>\n",
       "      <td>...</td>\n",
       "      <td>4.0</td>\n",
       "      <td>2.0</td>\n",
       "      <td>2.0</td>\n",
       "      <td>3.0</td>\n",
       "      <td>1.0</td>\n",
       "      <td>3.0</td>\n",
       "      <td>NaN</td>\n",
       "      <td>3.0</td>\n",
       "      <td>4.0</td>\n",
       "      <td>2.0</td>\n",
       "    </tr>\n",
       "    <tr>\n",
       "      <th>5</th>\n",
       "      <td>NaN</td>\n",
       "      <td>1.0</td>\n",
       "      <td>1.0</td>\n",
       "      <td>NaN</td>\n",
       "      <td>1.0</td>\n",
       "      <td>NaN</td>\n",
       "      <td>NaN</td>\n",
       "      <td>NaN</td>\n",
       "      <td>2.0</td>\n",
       "      <td>2.0</td>\n",
       "      <td>...</td>\n",
       "      <td>2.0</td>\n",
       "      <td>4.0</td>\n",
       "      <td>1.0</td>\n",
       "      <td>2.0</td>\n",
       "      <td>2.0</td>\n",
       "      <td>NaN</td>\n",
       "      <td>3.0</td>\n",
       "      <td>4.0</td>\n",
       "      <td>4.0</td>\n",
       "      <td>1.0</td>\n",
       "    </tr>\n",
       "    <tr>\n",
       "      <th>6</th>\n",
       "      <td>NaN</td>\n",
       "      <td>NaN</td>\n",
       "      <td>NaN</td>\n",
       "      <td>NaN</td>\n",
       "      <td>NaN</td>\n",
       "      <td>NaN</td>\n",
       "      <td>NaN</td>\n",
       "      <td>NaN</td>\n",
       "      <td>NaN</td>\n",
       "      <td>NaN</td>\n",
       "      <td>...</td>\n",
       "      <td>NaN</td>\n",
       "      <td>1.0</td>\n",
       "      <td>NaN</td>\n",
       "      <td>NaN</td>\n",
       "      <td>NaN</td>\n",
       "      <td>NaN</td>\n",
       "      <td>NaN</td>\n",
       "      <td>1.0</td>\n",
       "      <td>9.0</td>\n",
       "      <td>4.0</td>\n",
       "    </tr>\n",
       "    <tr>\n",
       "      <th rowspan=\"7\" valign=\"top\">2017</th>\n",
       "      <th>0</th>\n",
       "      <td>153.0</td>\n",
       "      <td>62.0</td>\n",
       "      <td>30.0</td>\n",
       "      <td>12.0</td>\n",
       "      <td>8.0</td>\n",
       "      <td>5.0</td>\n",
       "      <td>31.0</td>\n",
       "      <td>80.0</td>\n",
       "      <td>194.0</td>\n",
       "      <td>310.0</td>\n",
       "      <td>...</td>\n",
       "      <td>478.0</td>\n",
       "      <td>474.0</td>\n",
       "      <td>475.0</td>\n",
       "      <td>422.0</td>\n",
       "      <td>400.0</td>\n",
       "      <td>413.0</td>\n",
       "      <td>440.0</td>\n",
       "      <td>510.0</td>\n",
       "      <td>470.0</td>\n",
       "      <td>374.0</td>\n",
       "    </tr>\n",
       "    <tr>\n",
       "      <th>1</th>\n",
       "      <td>144.0</td>\n",
       "      <td>65.0</td>\n",
       "      <td>45.0</td>\n",
       "      <td>15.0</td>\n",
       "      <td>16.0</td>\n",
       "      <td>10.0</td>\n",
       "      <td>30.0</td>\n",
       "      <td>90.0</td>\n",
       "      <td>230.0</td>\n",
       "      <td>352.0</td>\n",
       "      <td>...</td>\n",
       "      <td>473.0</td>\n",
       "      <td>484.0</td>\n",
       "      <td>487.0</td>\n",
       "      <td>443.0</td>\n",
       "      <td>369.0</td>\n",
       "      <td>409.0</td>\n",
       "      <td>428.0</td>\n",
       "      <td>467.0</td>\n",
       "      <td>449.0</td>\n",
       "      <td>333.0</td>\n",
       "    </tr>\n",
       "    <tr>\n",
       "      <th>2</th>\n",
       "      <td>169.0</td>\n",
       "      <td>93.0</td>\n",
       "      <td>40.0</td>\n",
       "      <td>14.0</td>\n",
       "      <td>15.0</td>\n",
       "      <td>16.0</td>\n",
       "      <td>34.0</td>\n",
       "      <td>86.0</td>\n",
       "      <td>217.0</td>\n",
       "      <td>362.0</td>\n",
       "      <td>...</td>\n",
       "      <td>452.0</td>\n",
       "      <td>443.0</td>\n",
       "      <td>453.0</td>\n",
       "      <td>409.0</td>\n",
       "      <td>380.0</td>\n",
       "      <td>359.0</td>\n",
       "      <td>409.0</td>\n",
       "      <td>423.0</td>\n",
       "      <td>362.0</td>\n",
       "      <td>280.0</td>\n",
       "    </tr>\n",
       "    <tr>\n",
       "      <th>3</th>\n",
       "      <td>156.0</td>\n",
       "      <td>83.0</td>\n",
       "      <td>36.0</td>\n",
       "      <td>12.0</td>\n",
       "      <td>15.0</td>\n",
       "      <td>15.0</td>\n",
       "      <td>31.0</td>\n",
       "      <td>96.0</td>\n",
       "      <td>207.0</td>\n",
       "      <td>307.0</td>\n",
       "      <td>...</td>\n",
       "      <td>417.0</td>\n",
       "      <td>410.0</td>\n",
       "      <td>410.0</td>\n",
       "      <td>408.0</td>\n",
       "      <td>337.0</td>\n",
       "      <td>363.0</td>\n",
       "      <td>377.0</td>\n",
       "      <td>393.0</td>\n",
       "      <td>384.0</td>\n",
       "      <td>271.0</td>\n",
       "    </tr>\n",
       "    <tr>\n",
       "      <th>4</th>\n",
       "      <td>220.0</td>\n",
       "      <td>126.0</td>\n",
       "      <td>37.0</td>\n",
       "      <td>26.0</td>\n",
       "      <td>25.0</td>\n",
       "      <td>17.0</td>\n",
       "      <td>45.0</td>\n",
       "      <td>91.0</td>\n",
       "      <td>226.0</td>\n",
       "      <td>358.0</td>\n",
       "      <td>...</td>\n",
       "      <td>464.0</td>\n",
       "      <td>442.0</td>\n",
       "      <td>433.0</td>\n",
       "      <td>377.0</td>\n",
       "      <td>353.0</td>\n",
       "      <td>411.0</td>\n",
       "      <td>340.0</td>\n",
       "      <td>383.0</td>\n",
       "      <td>375.0</td>\n",
       "      <td>292.0</td>\n",
       "    </tr>\n",
       "    <tr>\n",
       "      <th>5</th>\n",
       "      <td>180.0</td>\n",
       "      <td>81.0</td>\n",
       "      <td>34.0</td>\n",
       "      <td>28.0</td>\n",
       "      <td>12.0</td>\n",
       "      <td>13.0</td>\n",
       "      <td>24.0</td>\n",
       "      <td>47.0</td>\n",
       "      <td>105.0</td>\n",
       "      <td>198.0</td>\n",
       "      <td>...</td>\n",
       "      <td>320.0</td>\n",
       "      <td>330.0</td>\n",
       "      <td>335.0</td>\n",
       "      <td>333.0</td>\n",
       "      <td>288.0</td>\n",
       "      <td>351.0</td>\n",
       "      <td>343.0</td>\n",
       "      <td>292.0</td>\n",
       "      <td>250.0</td>\n",
       "      <td>201.0</td>\n",
       "    </tr>\n",
       "    <tr>\n",
       "      <th>6</th>\n",
       "      <td>126.0</td>\n",
       "      <td>79.0</td>\n",
       "      <td>37.0</td>\n",
       "      <td>21.0</td>\n",
       "      <td>13.0</td>\n",
       "      <td>18.0</td>\n",
       "      <td>17.0</td>\n",
       "      <td>35.0</td>\n",
       "      <td>96.0</td>\n",
       "      <td>159.0</td>\n",
       "      <td>...</td>\n",
       "      <td>317.0</td>\n",
       "      <td>335.0</td>\n",
       "      <td>352.0</td>\n",
       "      <td>375.0</td>\n",
       "      <td>389.0</td>\n",
       "      <td>406.0</td>\n",
       "      <td>430.0</td>\n",
       "      <td>378.0</td>\n",
       "      <td>399.0</td>\n",
       "      <td>286.0</td>\n",
       "    </tr>\n",
       "    <tr>\n",
       "      <th rowspan=\"7\" valign=\"top\">2018</th>\n",
       "      <th>0</th>\n",
       "      <td>171.0</td>\n",
       "      <td>72.0</td>\n",
       "      <td>35.0</td>\n",
       "      <td>24.0</td>\n",
       "      <td>11.0</td>\n",
       "      <td>17.0</td>\n",
       "      <td>35.0</td>\n",
       "      <td>78.0</td>\n",
       "      <td>282.0</td>\n",
       "      <td>458.0</td>\n",
       "      <td>...</td>\n",
       "      <td>608.0</td>\n",
       "      <td>591.0</td>\n",
       "      <td>604.0</td>\n",
       "      <td>560.0</td>\n",
       "      <td>518.0</td>\n",
       "      <td>525.0</td>\n",
       "      <td>580.0</td>\n",
       "      <td>602.0</td>\n",
       "      <td>509.0</td>\n",
       "      <td>339.0</td>\n",
       "    </tr>\n",
       "    <tr>\n",
       "      <th>1</th>\n",
       "      <td>162.0</td>\n",
       "      <td>92.0</td>\n",
       "      <td>35.0</td>\n",
       "      <td>13.0</td>\n",
       "      <td>13.0</td>\n",
       "      <td>14.0</td>\n",
       "      <td>41.0</td>\n",
       "      <td>130.0</td>\n",
       "      <td>288.0</td>\n",
       "      <td>505.0</td>\n",
       "      <td>...</td>\n",
       "      <td>639.0</td>\n",
       "      <td>544.0</td>\n",
       "      <td>584.0</td>\n",
       "      <td>519.0</td>\n",
       "      <td>499.0</td>\n",
       "      <td>505.0</td>\n",
       "      <td>547.0</td>\n",
       "      <td>549.0</td>\n",
       "      <td>505.0</td>\n",
       "      <td>352.0</td>\n",
       "    </tr>\n",
       "    <tr>\n",
       "      <th>2</th>\n",
       "      <td>224.0</td>\n",
       "      <td>83.0</td>\n",
       "      <td>41.0</td>\n",
       "      <td>18.0</td>\n",
       "      <td>18.0</td>\n",
       "      <td>11.0</td>\n",
       "      <td>59.0</td>\n",
       "      <td>123.0</td>\n",
       "      <td>291.0</td>\n",
       "      <td>460.0</td>\n",
       "      <td>...</td>\n",
       "      <td>588.0</td>\n",
       "      <td>533.0</td>\n",
       "      <td>577.0</td>\n",
       "      <td>549.0</td>\n",
       "      <td>463.0</td>\n",
       "      <td>480.0</td>\n",
       "      <td>483.0</td>\n",
       "      <td>534.0</td>\n",
       "      <td>509.0</td>\n",
       "      <td>333.0</td>\n",
       "    </tr>\n",
       "    <tr>\n",
       "      <th>3</th>\n",
       "      <td>197.0</td>\n",
       "      <td>84.0</td>\n",
       "      <td>37.0</td>\n",
       "      <td>27.0</td>\n",
       "      <td>16.0</td>\n",
       "      <td>13.0</td>\n",
       "      <td>53.0</td>\n",
       "      <td>121.0</td>\n",
       "      <td>290.0</td>\n",
       "      <td>443.0</td>\n",
       "      <td>...</td>\n",
       "      <td>553.0</td>\n",
       "      <td>510.0</td>\n",
       "      <td>657.0</td>\n",
       "      <td>487.0</td>\n",
       "      <td>438.0</td>\n",
       "      <td>457.0</td>\n",
       "      <td>454.0</td>\n",
       "      <td>445.0</td>\n",
       "      <td>466.0</td>\n",
       "      <td>274.0</td>\n",
       "    </tr>\n",
       "    <tr>\n",
       "      <th>4</th>\n",
       "      <td>200.0</td>\n",
       "      <td>86.0</td>\n",
       "      <td>34.0</td>\n",
       "      <td>23.0</td>\n",
       "      <td>15.0</td>\n",
       "      <td>18.0</td>\n",
       "      <td>51.0</td>\n",
       "      <td>115.0</td>\n",
       "      <td>264.0</td>\n",
       "      <td>405.0</td>\n",
       "      <td>...</td>\n",
       "      <td>487.0</td>\n",
       "      <td>530.0</td>\n",
       "      <td>532.0</td>\n",
       "      <td>433.0</td>\n",
       "      <td>366.0</td>\n",
       "      <td>367.0</td>\n",
       "      <td>397.0</td>\n",
       "      <td>334.0</td>\n",
       "      <td>319.0</td>\n",
       "      <td>217.0</td>\n",
       "    </tr>\n",
       "    <tr>\n",
       "      <th>5</th>\n",
       "      <td>134.0</td>\n",
       "      <td>92.0</td>\n",
       "      <td>31.0</td>\n",
       "      <td>15.0</td>\n",
       "      <td>12.0</td>\n",
       "      <td>10.0</td>\n",
       "      <td>28.0</td>\n",
       "      <td>57.0</td>\n",
       "      <td>141.0</td>\n",
       "      <td>230.0</td>\n",
       "      <td>...</td>\n",
       "      <td>351.0</td>\n",
       "      <td>386.0</td>\n",
       "      <td>358.0</td>\n",
       "      <td>360.0</td>\n",
       "      <td>420.0</td>\n",
       "      <td>399.0</td>\n",
       "      <td>381.0</td>\n",
       "      <td>357.0</td>\n",
       "      <td>290.0</td>\n",
       "      <td>225.0</td>\n",
       "    </tr>\n",
       "    <tr>\n",
       "      <th>6</th>\n",
       "      <td>136.0</td>\n",
       "      <td>61.0</td>\n",
       "      <td>32.0</td>\n",
       "      <td>22.0</td>\n",
       "      <td>14.0</td>\n",
       "      <td>9.0</td>\n",
       "      <td>16.0</td>\n",
       "      <td>70.0</td>\n",
       "      <td>108.0</td>\n",
       "      <td>188.0</td>\n",
       "      <td>...</td>\n",
       "      <td>363.0</td>\n",
       "      <td>374.0</td>\n",
       "      <td>358.0</td>\n",
       "      <td>420.0</td>\n",
       "      <td>501.0</td>\n",
       "      <td>491.0</td>\n",
       "      <td>535.0</td>\n",
       "      <td>501.0</td>\n",
       "      <td>461.0</td>\n",
       "      <td>315.0</td>\n",
       "    </tr>\n",
       "  </tbody>\n",
       "</table>\n",
       "<p>21 rows × 24 columns</p>\n",
       "</div>"
      ],
      "text/plain": [
       "hour         0      1     2     3     4     5     6      7      8      9   \\\n",
       "year day                                                                    \n",
       "2016 0      1.0    NaN   1.0   NaN   2.0   NaN   NaN    2.0    1.0    4.0   \n",
       "     1      NaN    NaN   NaN   NaN   NaN   NaN   NaN    NaN    NaN    3.0   \n",
       "     2      1.0    1.0   NaN   NaN   NaN   NaN   NaN    1.0    4.0    2.0   \n",
       "     3      2.0    NaN   1.0   NaN   NaN   NaN   NaN    2.0    2.0    3.0   \n",
       "     4      1.0    NaN   1.0   NaN   NaN   NaN   NaN    NaN    3.0    2.0   \n",
       "     5      NaN    1.0   1.0   NaN   1.0   NaN   NaN    NaN    2.0    2.0   \n",
       "     6      NaN    NaN   NaN   NaN   NaN   NaN   NaN    NaN    NaN    NaN   \n",
       "2017 0    153.0   62.0  30.0  12.0   8.0   5.0  31.0   80.0  194.0  310.0   \n",
       "     1    144.0   65.0  45.0  15.0  16.0  10.0  30.0   90.0  230.0  352.0   \n",
       "     2    169.0   93.0  40.0  14.0  15.0  16.0  34.0   86.0  217.0  362.0   \n",
       "     3    156.0   83.0  36.0  12.0  15.0  15.0  31.0   96.0  207.0  307.0   \n",
       "     4    220.0  126.0  37.0  26.0  25.0  17.0  45.0   91.0  226.0  358.0   \n",
       "     5    180.0   81.0  34.0  28.0  12.0  13.0  24.0   47.0  105.0  198.0   \n",
       "     6    126.0   79.0  37.0  21.0  13.0  18.0  17.0   35.0   96.0  159.0   \n",
       "2018 0    171.0   72.0  35.0  24.0  11.0  17.0  35.0   78.0  282.0  458.0   \n",
       "     1    162.0   92.0  35.0  13.0  13.0  14.0  41.0  130.0  288.0  505.0   \n",
       "     2    224.0   83.0  41.0  18.0  18.0  11.0  59.0  123.0  291.0  460.0   \n",
       "     3    197.0   84.0  37.0  27.0  16.0  13.0  53.0  121.0  290.0  443.0   \n",
       "     4    200.0   86.0  34.0  23.0  15.0  18.0  51.0  115.0  264.0  405.0   \n",
       "     5    134.0   92.0  31.0  15.0  12.0  10.0  28.0   57.0  141.0  230.0   \n",
       "     6    136.0   61.0  32.0  22.0  14.0   9.0  16.0   70.0  108.0  188.0   \n",
       "\n",
       "hour      ...     14     15     16     17     18     19     20     21     22  \\\n",
       "year day  ...                                                                  \n",
       "2016 0    ...    2.0    6.0    5.0    2.0    2.0    NaN    NaN    1.0    4.0   \n",
       "     1    ...    4.0    7.0    6.0    2.0    3.0    4.0    1.0    4.0    4.0   \n",
       "     2    ...    4.0    2.0    1.0    5.0    1.0    1.0    4.0    2.0    4.0   \n",
       "     3    ...    2.0    2.0    4.0    3.0    3.0    2.0    3.0    NaN    3.0   \n",
       "     4    ...    4.0    2.0    2.0    3.0    1.0    3.0    NaN    3.0    4.0   \n",
       "     5    ...    2.0    4.0    1.0    2.0    2.0    NaN    3.0    4.0    4.0   \n",
       "     6    ...    NaN    1.0    NaN    NaN    NaN    NaN    NaN    1.0    9.0   \n",
       "2017 0    ...  478.0  474.0  475.0  422.0  400.0  413.0  440.0  510.0  470.0   \n",
       "     1    ...  473.0  484.0  487.0  443.0  369.0  409.0  428.0  467.0  449.0   \n",
       "     2    ...  452.0  443.0  453.0  409.0  380.0  359.0  409.0  423.0  362.0   \n",
       "     3    ...  417.0  410.0  410.0  408.0  337.0  363.0  377.0  393.0  384.0   \n",
       "     4    ...  464.0  442.0  433.0  377.0  353.0  411.0  340.0  383.0  375.0   \n",
       "     5    ...  320.0  330.0  335.0  333.0  288.0  351.0  343.0  292.0  250.0   \n",
       "     6    ...  317.0  335.0  352.0  375.0  389.0  406.0  430.0  378.0  399.0   \n",
       "2018 0    ...  608.0  591.0  604.0  560.0  518.0  525.0  580.0  602.0  509.0   \n",
       "     1    ...  639.0  544.0  584.0  519.0  499.0  505.0  547.0  549.0  505.0   \n",
       "     2    ...  588.0  533.0  577.0  549.0  463.0  480.0  483.0  534.0  509.0   \n",
       "     3    ...  553.0  510.0  657.0  487.0  438.0  457.0  454.0  445.0  466.0   \n",
       "     4    ...  487.0  530.0  532.0  433.0  366.0  367.0  397.0  334.0  319.0   \n",
       "     5    ...  351.0  386.0  358.0  360.0  420.0  399.0  381.0  357.0  290.0   \n",
       "     6    ...  363.0  374.0  358.0  420.0  501.0  491.0  535.0  501.0  461.0   \n",
       "\n",
       "hour         23  \n",
       "year day         \n",
       "2016 0      NaN  \n",
       "     1      5.0  \n",
       "     2      1.0  \n",
       "     3      2.0  \n",
       "     4      2.0  \n",
       "     5      1.0  \n",
       "     6      4.0  \n",
       "2017 0    374.0  \n",
       "     1    333.0  \n",
       "     2    280.0  \n",
       "     3    271.0  \n",
       "     4    292.0  \n",
       "     5    201.0  \n",
       "     6    286.0  \n",
       "2018 0    339.0  \n",
       "     1    352.0  \n",
       "     2    333.0  \n",
       "     3    274.0  \n",
       "     4    217.0  \n",
       "     5    225.0  \n",
       "     6    315.0  \n",
       "\n",
       "[21 rows x 24 columns]"
      ]
     },
     "execution_count": 21,
     "metadata": {},
     "output_type": "execute_result"
    }
   ],
   "source": [
    "figure_2"
   ]
  },
  {
   "cell_type": "markdown",
   "id": "adae461d",
   "metadata": {},
   "source": [
    "Then, we visualized the pivot above as a heatmap graph."
   ]
  },
  {
   "cell_type": "code",
   "execution_count": 22,
   "id": "f6598ee3",
   "metadata": {},
   "outputs": [
    {
     "data": {
      "image/png": "[encoded data removed]",
      "text/plain": [
       "<Figure size 1296x504 with 6 Axes>"
      ]
     },
     "metadata": {
      "needs_background": "light"
     },
     "output_type": "display_data"
    }
   ],
   "source": [
    "fig, ax = plt.subplots(nrows = 3, ncols = 1, figsize = (18, 7))\n",
    "\n",
    "# name label of y axis\n",
    "y_axis_labels = [\"Mon\",\"Tue\",\"Wed\",\"Thu\",\"Fri\",\"Sat\",\"Sun\"] \n",
    "\n",
    "fig.suptitle(\"Number of orders by time and day\", x = 0.45, y = 0.92)\n",
    "\n",
    "# figure for 2016 data\n",
    "# plot the data\n",
    "sns.heatmap(data = figure_2.loc[(2016)], \n",
    "            cmap = \"flare\",\n",
    "            vmin = 0, vmax = 450,\n",
    "            ax = ax[0])  \n",
    "# formatting figure\n",
    "ax[0].set(xlabel = None)\n",
    "ax[0].set(ylabel = \"2016\")\n",
    "ax[0].set_yticklabels(labels = y_axis_labels, rotation=0)\n",
    "\n",
    "# figure for 2017 data\n",
    "# plot the data\n",
    "sns.heatmap(data = figure_2.loc[(2017)], \n",
    "            cmap = \"flare\", \n",
    "            vmin = 0, vmax = 450, \n",
    "            ax = ax[1])\n",
    "# formatting figure\n",
    "ax[1].set(xlabel = None)\n",
    "ax[1].set(ylabel = \"2017\")\n",
    "ax[1].set_yticklabels(labels = y_axis_labels, rotation=0)\n",
    "\n",
    "# figure for 2018 data\n",
    "# plot the data\n",
    "sns.heatmap(data = figure_2.loc[(2018)], \n",
    "            cmap = \"flare\", \n",
    "            vmin=0, vmax=450, \n",
    "            ax = ax[2])\n",
    "# formatting figure\n",
    "ax[2].set(ylabel = \"2018\")\n",
    "ax[2].set_yticklabels(labels = y_axis_labels, rotation=0)\n",
    "\n",
    "plt.show()"
   ]
  },
  {
   "cell_type": "markdown",
   "id": "0d21ba05",
   "metadata": {},
   "source": [
    "Based on the figure above, customers frequently order between 10 AM to 10 PM on weekdays. In that time interval, the number of orders is between 200 to 400 orders. Outside of that time, the order activity is a quite bit. In terms of business, we can do a midnight or weekend flash-sale program to increase order activity in that time period."
   ]
  },
  {
   "cell_type": "markdown",
   "id": "ea9f1696",
   "metadata": {},
   "source": [
    "**3. How is the delivery time trending each month?**"
   ]
  },
  {
   "cell_type": "markdown",
   "id": "3ffa2da7",
   "metadata": {},
   "source": [
    "In this question, we still use the orders table, but to measure the delivery time we need 2 columns i.e., *order_delivered_carrier_date* and *order_delivered_customer_date* column. \n",
    "\n",
    "As we can see before the *order_delivered_carrier_date* and *order_delivered_customer_date* columns have missing values. Because it is datetime data type, we can't easily fill the data and the easiest way to handle this is to drop the data."
   ]
  },
  {
   "cell_type": "code",
   "execution_count": 23,
   "id": "e5af6c23",
   "metadata": {},
   "outputs": [],
   "source": [
    "orders_used_2 = orders[[\"order_id\",\n",
    "                        \"order_delivered_carrier_date\",\n",
    "                        \"order_delivered_customer_date\"]].dropna(subset = [\"order_delivered_carrier_date\",\n",
    "                                                                           \"order_delivered_customer_date\"]).copy()"
   ]
  },
  {
   "cell_type": "code",
   "execution_count": 24,
   "id": "50beec8d",
   "metadata": {},
   "outputs": [
    {
     "data": {
      "text/html": [
       "<div>\n",
       "<style scoped>\n",
       "    .dataframe tbody tr th:only-of-type {\n",
       "        vertical-align: middle;\n",
       "    }\n",
       "\n",
       "    .dataframe tbody tr th {\n",
       "        vertical-align: top;\n",
       "    }\n",
       "\n",
       "    .dataframe thead th {\n",
       "        text-align: right;\n",
       "    }\n",
       "</style>\n",
       "<table border=\"1\" class=\"dataframe\">\n",
       "  <thead>\n",
       "    <tr style=\"text-align: right;\">\n",
       "      <th></th>\n",
       "      <th>order_id</th>\n",
       "      <th>order_delivered_carrier_date</th>\n",
       "      <th>order_delivered_customer_date</th>\n",
       "    </tr>\n",
       "  </thead>\n",
       "  <tbody>\n",
       "    <tr>\n",
       "      <th>0</th>\n",
       "      <td>e481f51cbdc54678b7cc49136f2d6af7</td>\n",
       "      <td>2017-10-04 19:55:00</td>\n",
       "      <td>2017-10-10 21:25:13</td>\n",
       "    </tr>\n",
       "    <tr>\n",
       "      <th>1</th>\n",
       "      <td>53cdb2fc8bc7dce0b6741e2150273451</td>\n",
       "      <td>2018-07-26 14:31:00</td>\n",
       "      <td>2018-08-07 15:27:45</td>\n",
       "    </tr>\n",
       "    <tr>\n",
       "      <th>2</th>\n",
       "      <td>47770eb9100c2d0c44946d9cf07ec65d</td>\n",
       "      <td>2018-08-08 13:50:00</td>\n",
       "      <td>2018-08-17 18:06:29</td>\n",
       "    </tr>\n",
       "    <tr>\n",
       "      <th>3</th>\n",
       "      <td>949d5b44dbf5de918fe9c16f97b45f8a</td>\n",
       "      <td>2017-11-22 13:39:59</td>\n",
       "      <td>2017-12-02 00:28:42</td>\n",
       "    </tr>\n",
       "    <tr>\n",
       "      <th>4</th>\n",
       "      <td>ad21c59c0840e6cb83a9ceb5573f8159</td>\n",
       "      <td>2018-02-14 19:46:34</td>\n",
       "      <td>2018-02-16 18:17:02</td>\n",
       "    </tr>\n",
       "  </tbody>\n",
       "</table>\n",
       "</div>"
      ],
      "text/plain": [
       "                           order_id order_delivered_carrier_date  \\\n",
       "0  e481f51cbdc54678b7cc49136f2d6af7          2017-10-04 19:55:00   \n",
       "1  53cdb2fc8bc7dce0b6741e2150273451          2018-07-26 14:31:00   \n",
       "2  47770eb9100c2d0c44946d9cf07ec65d          2018-08-08 13:50:00   \n",
       "3  949d5b44dbf5de918fe9c16f97b45f8a          2017-11-22 13:39:59   \n",
       "4  ad21c59c0840e6cb83a9ceb5573f8159          2018-02-14 19:46:34   \n",
       "\n",
       "  order_delivered_customer_date  \n",
       "0           2017-10-10 21:25:13  \n",
       "1           2018-08-07 15:27:45  \n",
       "2           2018-08-17 18:06:29  \n",
       "3           2017-12-02 00:28:42  \n",
       "4           2018-02-16 18:17:02  "
      ]
     },
     "execution_count": 24,
     "metadata": {},
     "output_type": "execute_result"
    }
   ],
   "source": [
    "orders_used_2.head()"
   ]
  },
  {
   "cell_type": "markdown",
   "id": "72f50497",
   "metadata": {},
   "source": [
    "Next, we measure the delivery time by substracted *order_delivered_carrier_date* from *order_delivered_customer_date*. The result is in days."
   ]
  },
  {
   "cell_type": "code",
   "execution_count": 25,
   "id": "1b26e1fb",
   "metadata": {
    "scrolled": true
   },
   "outputs": [],
   "source": [
    "orders_used_2[\"delivery_time (days)\"] = (orders_used_2[\"order_delivered_customer_date\"].dt.date - \\\n",
    "                                         orders_used_2[\"order_delivered_carrier_date\"].dt.date).astype(\"timedelta64[D]\")"
   ]
  },
  {
   "cell_type": "markdown",
   "id": "1032f940",
   "metadata": {},
   "source": [
    "Here we want to see if there are any outliers in the *delivery_time (days)* column."
   ]
  },
  {
   "cell_type": "code",
   "execution_count": 26,
   "id": "d06b7a54",
   "metadata": {},
   "outputs": [
    {
     "data": {
      "text/plain": [
       "count    96475.000000\n",
       "mean         9.282778\n",
       "std          8.777229\n",
       "min        -16.000000\n",
       "25%          4.000000\n",
       "50%          7.000000\n",
       "75%         12.000000\n",
       "max        205.000000\n",
       "Name: delivery_time (days), dtype: float64"
      ]
     },
     "execution_count": 26,
     "metadata": {},
     "output_type": "execute_result"
    }
   ],
   "source": [
    "orders_used_2[\"delivery_time (days)\"].describe()"
   ]
  },
  {
   "cell_type": "code",
   "execution_count": 27,
   "id": "9eacbb4e",
   "metadata": {},
   "outputs": [
    {
     "data": {
      "image/png": "[encoded data removed]",
      "text/plain": [
       "<Figure size 432x288 with 1 Axes>"
      ]
     },
     "metadata": {
      "needs_background": "light"
     },
     "output_type": "display_data"
    }
   ],
   "source": [
    "sns.boxplot(data = orders_used_2, x = \"delivery_time (days)\")\n",
    "plt.show()"
   ]
  },
  {
   "cell_type": "markdown",
   "id": "e4b815eb",
   "metadata": {},
   "source": [
    "From the descriptive statistics and the boxplot, on the left (small value) there are negative values that are very strange because time won't be negative. And on the right (big value) there are many values that are far enough from the other common values that are very strange too because it is almost impossible to have many deliveries for months. So, to handle the outliers in this case, we want to replace the extreme values with its 0.99 percentile.\n",
    "\n",
    "Before that, we defined a function to handle the outliers."
   ]
  },
  {
   "cell_type": "code",
   "execution_count": 28,
   "id": "39b51938",
   "metadata": {},
   "outputs": [],
   "source": [
    "def handle_outliers(data, col, method):\n",
    "    \n",
    "    lower_bound = 0\n",
    "    upper_bound = data[col].quantile(0.99)\n",
    "    \n",
    "    if method == \"filter\":\n",
    "        data = data[(data[col] >= lower_bound) & (data[col] < upper_bound)]\n",
    "        return data\n",
    "\n",
    "    elif method == \"imputation\":\n",
    "        data = data[data[col] >= lower_bound]\n",
    "        data.loc[data[col] > upper_bound, col] = upper_bound\n",
    "        return data"
   ]
  },
  {
   "cell_type": "code",
   "execution_count": 29,
   "id": "812c9b3c",
   "metadata": {},
   "outputs": [],
   "source": [
    "orders_used_2 = handle_outliers(orders_used_2, \"delivery_time (days)\", \"imputation\")"
   ]
  },
  {
   "cell_type": "markdown",
   "id": "ec1d1385",
   "metadata": {},
   "source": [
    "Re-check the statistic descriptive and outliers of the data."
   ]
  },
  {
   "cell_type": "code",
   "execution_count": 30,
   "id": "4eee4dd8",
   "metadata": {},
   "outputs": [
    {
     "data": {
      "text/plain": [
       "count    96455.000000\n",
       "mean         9.123197\n",
       "std          7.575986\n",
       "min          0.000000\n",
       "25%          4.000000\n",
       "50%          7.000000\n",
       "75%         12.000000\n",
       "max         41.000000\n",
       "Name: delivery_time (days), dtype: float64"
      ]
     },
     "execution_count": 30,
     "metadata": {},
     "output_type": "execute_result"
    }
   ],
   "source": [
    "orders_used_2[\"delivery_time (days)\"].describe()"
   ]
  },
  {
   "cell_type": "code",
   "execution_count": 31,
   "id": "5f271d03",
   "metadata": {},
   "outputs": [
    {
     "data": {
      "image/png": "[encoded data removed]",
      "text/plain": [
       "<Figure size 432x288 with 1 Axes>"
      ]
     },
     "metadata": {
      "needs_background": "light"
     },
     "output_type": "display_data"
    }
   ],
   "source": [
    "sns.boxplot(data =orders_used_2, x = \"delivery_time (days)\")\n",
    "plt.show()"
   ]
  },
  {
   "cell_type": "markdown",
   "id": "65ded7b3",
   "metadata": {},
   "source": [
    "From the figure above, there's still any outlier in the data but not too far from the common values."
   ]
  },
  {
   "cell_type": "code",
   "execution_count": 32,
   "id": "e0be0994",
   "metadata": {},
   "outputs": [
    {
     "data": {
      "image/png": "[encoded data removed]",
      "text/plain": [
       "<Figure size 432x288 with 1 Axes>"
      ]
     },
     "metadata": {
      "needs_background": "light"
     },
     "output_type": "display_data"
    }
   ],
   "source": [
    "sns.histplot(data = orders_used_2, x = \"delivery_time (days)\")\n",
    "plt.show()"
   ]
  },
  {
   "cell_type": "markdown",
   "id": "91aa1e46",
   "metadata": {},
   "source": [
    "Here's the histogram of the *delivery_time (days)* column. From the figure above, we can decide what statistics measurement is used to determine the average delivery time. Because the distribution is skewed, the best measurement to represent the average delivery time is the median. Hence, we need to down-sampling the data by the *order_delivered_carrier_date* column."
   ]
  },
  {
   "cell_type": "code",
   "execution_count": 33,
   "id": "60a00971",
   "metadata": {},
   "outputs": [],
   "source": [
    "figure_3 = orders_used_2.set_index(\"order_delivered_carrier_date\")\\\n",
    "                        .resample(\"M\")\\\n",
    "                        .median()\\\n",
    "                        .reset_index()"
   ]
  },
  {
   "cell_type": "code",
   "execution_count": 34,
   "id": "70a72f1e",
   "metadata": {},
   "outputs": [
    {
     "data": {
      "text/html": [
       "<div>\n",
       "<style scoped>\n",
       "    .dataframe tbody tr th:only-of-type {\n",
       "        vertical-align: middle;\n",
       "    }\n",
       "\n",
       "    .dataframe tbody tr th {\n",
       "        vertical-align: top;\n",
       "    }\n",
       "\n",
       "    .dataframe thead th {\n",
       "        text-align: right;\n",
       "    }\n",
       "</style>\n",
       "<table border=\"1\" class=\"dataframe\">\n",
       "  <thead>\n",
       "    <tr style=\"text-align: right;\">\n",
       "      <th></th>\n",
       "      <th>order_delivered_carrier_date</th>\n",
       "      <th>delivery_time (days)</th>\n",
       "    </tr>\n",
       "  </thead>\n",
       "  <tbody>\n",
       "    <tr>\n",
       "      <th>0</th>\n",
       "      <td>2016-10-31</td>\n",
       "      <td>3.0</td>\n",
       "    </tr>\n",
       "    <tr>\n",
       "      <th>1</th>\n",
       "      <td>2016-11-30</td>\n",
       "      <td>7.0</td>\n",
       "    </tr>\n",
       "    <tr>\n",
       "      <th>2</th>\n",
       "      <td>2016-12-31</td>\n",
       "      <td>3.5</td>\n",
       "    </tr>\n",
       "    <tr>\n",
       "      <th>3</th>\n",
       "      <td>2017-01-31</td>\n",
       "      <td>7.0</td>\n",
       "    </tr>\n",
       "    <tr>\n",
       "      <th>4</th>\n",
       "      <td>2017-02-28</td>\n",
       "      <td>7.0</td>\n",
       "    </tr>\n",
       "  </tbody>\n",
       "</table>\n",
       "</div>"
      ],
      "text/plain": [
       "  order_delivered_carrier_date  delivery_time (days)\n",
       "0                   2016-10-31                   3.0\n",
       "1                   2016-11-30                   7.0\n",
       "2                   2016-12-31                   3.5\n",
       "3                   2017-01-31                   7.0\n",
       "4                   2017-02-28                   7.0"
      ]
     },
     "execution_count": 34,
     "metadata": {},
     "output_type": "execute_result"
    }
   ],
   "source": [
    "figure_3.head()"
   ]
  },
  {
   "cell_type": "markdown",
   "id": "5854206d",
   "metadata": {},
   "source": [
    "The data above is visualized in the figure below:"
   ]
  },
  {
   "cell_type": "code",
   "execution_count": 35,
   "id": "dc7f0bab",
   "metadata": {},
   "outputs": [
    {
     "data": {
      "image/png": "[encoded data removed]",
      "text/plain": [
       "<Figure size 720x360 with 1 Axes>"
      ]
     },
     "metadata": {},
     "output_type": "display_data"
    }
   ],
   "source": [
    "# format color and size figure\n",
    "fig, ax = plt.subplots(facecolor = \"#ffffff\")\n",
    "fig.set_size_inches(10,5)\n",
    "\n",
    "# plot the data\n",
    "ax.plot(\"order_delivered_carrier_date\", \"delivery_time (days)\", data = figure_3, color = \"purple\")\n",
    "\n",
    "# format x-axis\n",
    "ax.xaxis.set_major_formatter(mdates.DateFormatter(\"%b-%Y\"))\n",
    "\n",
    "# show title\n",
    "plt.title(\"Average of delivery time each month\")\n",
    "\n",
    "# show grid\n",
    "plt.grid()\n",
    "\n",
    "plt.show()"
   ]
  },
  {
   "cell_type": "markdown",
   "id": "cda2f1c6",
   "metadata": {},
   "source": [
    "From the figure above, the delivery time tends to be consistent over months with the average between 6 and 8 days per order."
   ]
  },
  {
   "cell_type": "markdown",
   "id": "e1cba63d",
   "metadata": {},
   "source": [
    "**4. Whether the number of orders each month affect the delivery time?**"
   ]
  },
  {
   "cell_type": "markdown",
   "id": "7a86119d",
   "metadata": {},
   "source": [
    "For this question, we will use aggregating results from question number 1 and question number 3 by joining the tables to see the correlation between the two variables (which is the number of orders and delivery time)."
   ]
  },
  {
   "cell_type": "code",
   "execution_count": 36,
   "id": "55fc7b0b",
   "metadata": {},
   "outputs": [],
   "source": [
    "figure_4 = pd.concat([figure_1.set_index(\"order_purchase_date\"), \n",
    "                      figure_3.set_index(\"order_delivered_carrier_date\")], axis = 1, join = \"outer\")\n",
    "\n",
    "figure_4 = figure_4.rename(columns = {\"count\":\"number_orders\"})"
   ]
  },
  {
   "cell_type": "code",
   "execution_count": 37,
   "id": "1f6b32c1",
   "metadata": {},
   "outputs": [
    {
     "data": {
      "text/html": [
       "<div>\n",
       "<style scoped>\n",
       "    .dataframe tbody tr th:only-of-type {\n",
       "        vertical-align: middle;\n",
       "    }\n",
       "\n",
       "    .dataframe tbody tr th {\n",
       "        vertical-align: top;\n",
       "    }\n",
       "\n",
       "    .dataframe thead th {\n",
       "        text-align: right;\n",
       "    }\n",
       "</style>\n",
       "<table border=\"1\" class=\"dataframe\">\n",
       "  <thead>\n",
       "    <tr style=\"text-align: right;\">\n",
       "      <th></th>\n",
       "      <th>number_orders</th>\n",
       "      <th>delivery_time (days)</th>\n",
       "    </tr>\n",
       "  </thead>\n",
       "  <tbody>\n",
       "    <tr>\n",
       "      <th>2016-09-30</th>\n",
       "      <td>2</td>\n",
       "      <td>NaN</td>\n",
       "    </tr>\n",
       "    <tr>\n",
       "      <th>2016-10-31</th>\n",
       "      <td>300</td>\n",
       "      <td>3.0</td>\n",
       "    </tr>\n",
       "    <tr>\n",
       "      <th>2016-11-30</th>\n",
       "      <td>0</td>\n",
       "      <td>7.0</td>\n",
       "    </tr>\n",
       "    <tr>\n",
       "      <th>2016-12-31</th>\n",
       "      <td>1</td>\n",
       "      <td>3.5</td>\n",
       "    </tr>\n",
       "    <tr>\n",
       "      <th>2017-01-31</th>\n",
       "      <td>797</td>\n",
       "      <td>7.0</td>\n",
       "    </tr>\n",
       "    <tr>\n",
       "      <th>2017-02-28</th>\n",
       "      <td>1763</td>\n",
       "      <td>7.0</td>\n",
       "    </tr>\n",
       "    <tr>\n",
       "      <th>2017-03-31</th>\n",
       "      <td>2649</td>\n",
       "      <td>7.0</td>\n",
       "    </tr>\n",
       "    <tr>\n",
       "      <th>2017-04-30</th>\n",
       "      <td>2386</td>\n",
       "      <td>9.0</td>\n",
       "    </tr>\n",
       "    <tr>\n",
       "      <th>2017-05-31</th>\n",
       "      <td>3671</td>\n",
       "      <td>7.0</td>\n",
       "    </tr>\n",
       "    <tr>\n",
       "      <th>2017-06-30</th>\n",
       "      <td>3229</td>\n",
       "      <td>7.0</td>\n",
       "    </tr>\n",
       "  </tbody>\n",
       "</table>\n",
       "</div>"
      ],
      "text/plain": [
       "            number_orders  delivery_time (days)\n",
       "2016-09-30              2                   NaN\n",
       "2016-10-31            300                   3.0\n",
       "2016-11-30              0                   7.0\n",
       "2016-12-31              1                   3.5\n",
       "2017-01-31            797                   7.0\n",
       "2017-02-28           1763                   7.0\n",
       "2017-03-31           2649                   7.0\n",
       "2017-04-30           2386                   9.0\n",
       "2017-05-31           3671                   7.0\n",
       "2017-06-30           3229                   7.0"
      ]
     },
     "execution_count": 37,
     "metadata": {},
     "output_type": "execute_result"
    }
   ],
   "source": [
    "figure_4.head(10)"
   ]
  },
  {
   "cell_type": "markdown",
   "id": "b7a59014",
   "metadata": {},
   "source": [
    "Then, measure the correlation between *number_orders* and *delivery_time (days)*."
   ]
  },
  {
   "cell_type": "code",
   "execution_count": 38,
   "id": "9f91cdb5",
   "metadata": {},
   "outputs": [],
   "source": [
    "corr_figure_4 = figure_4.corr()"
   ]
  },
  {
   "cell_type": "markdown",
   "id": "a93d5ba1",
   "metadata": {},
   "source": [
    "The correlation is visualized below:"
   ]
  },
  {
   "cell_type": "code",
   "execution_count": 39,
   "id": "c3ffac16",
   "metadata": {},
   "outputs": [
    {
     "data": {
      "image/png": "[encoded data removed]",
      "text/plain": [
       "<Figure size 432x288 with 2 Axes>"
      ]
     },
     "metadata": {
      "needs_background": "light"
     },
     "output_type": "display_data"
    }
   ],
   "source": [
    "# plot the data correlation\n",
    "sns.heatmap(corr_figure_4, annot = True, cmap = \"flare\", vmin = 0, vmax = 1)\n",
    "\n",
    "# format y-axis\n",
    "plt.yticks(va = \"center\")\n",
    "\n",
    "plt.show()"
   ]
  },
  {
   "cell_type": "markdown",
   "id": "4d9beb07",
   "metadata": {},
   "source": [
    "Based on the figure above, the coefficient correlation between *number_orders* and *delivery_time (days)* is 0.34, which means the two variables have a weak correlation. But… if we look at the table below:"
   ]
  },
  {
   "cell_type": "code",
   "execution_count": 40,
   "id": "b5e31960",
   "metadata": {},
   "outputs": [
    {
     "data": {
      "text/html": [
       "<div>\n",
       "<style scoped>\n",
       "    .dataframe tbody tr th:only-of-type {\n",
       "        vertical-align: middle;\n",
       "    }\n",
       "\n",
       "    .dataframe tbody tr th {\n",
       "        vertical-align: top;\n",
       "    }\n",
       "\n",
       "    .dataframe thead th {\n",
       "        text-align: right;\n",
       "    }\n",
       "</style>\n",
       "<table border=\"1\" class=\"dataframe\">\n",
       "  <thead>\n",
       "    <tr style=\"text-align: right;\">\n",
       "      <th></th>\n",
       "      <th>number_orders</th>\n",
       "      <th>delivery_time (days)</th>\n",
       "    </tr>\n",
       "  </thead>\n",
       "  <tbody>\n",
       "    <tr>\n",
       "      <th>2016-09-30</th>\n",
       "      <td>2</td>\n",
       "      <td>NaN</td>\n",
       "    </tr>\n",
       "    <tr>\n",
       "      <th>2016-10-31</th>\n",
       "      <td>300</td>\n",
       "      <td>3.0</td>\n",
       "    </tr>\n",
       "    <tr>\n",
       "      <th>2016-11-30</th>\n",
       "      <td>0</td>\n",
       "      <td>7.0</td>\n",
       "    </tr>\n",
       "    <tr>\n",
       "      <th>2016-12-31</th>\n",
       "      <td>1</td>\n",
       "      <td>3.5</td>\n",
       "    </tr>\n",
       "    <tr>\n",
       "      <th>2017-01-31</th>\n",
       "      <td>797</td>\n",
       "      <td>7.0</td>\n",
       "    </tr>\n",
       "    <tr>\n",
       "      <th>2017-02-28</th>\n",
       "      <td>1763</td>\n",
       "      <td>7.0</td>\n",
       "    </tr>\n",
       "    <tr>\n",
       "      <th>2017-03-31</th>\n",
       "      <td>2649</td>\n",
       "      <td>7.0</td>\n",
       "    </tr>\n",
       "    <tr>\n",
       "      <th>2017-04-30</th>\n",
       "      <td>2386</td>\n",
       "      <td>9.0</td>\n",
       "    </tr>\n",
       "    <tr>\n",
       "      <th>2017-05-31</th>\n",
       "      <td>3671</td>\n",
       "      <td>7.0</td>\n",
       "    </tr>\n",
       "    <tr>\n",
       "      <th>2017-06-30</th>\n",
       "      <td>3229</td>\n",
       "      <td>7.0</td>\n",
       "    </tr>\n",
       "    <tr>\n",
       "      <th>2017-07-31</th>\n",
       "      <td>3998</td>\n",
       "      <td>7.0</td>\n",
       "    </tr>\n",
       "    <tr>\n",
       "      <th>2017-08-31</th>\n",
       "      <td>4304</td>\n",
       "      <td>7.0</td>\n",
       "    </tr>\n",
       "    <tr>\n",
       "      <th>2017-09-30</th>\n",
       "      <td>4265</td>\n",
       "      <td>7.0</td>\n",
       "    </tr>\n",
       "    <tr>\n",
       "      <th>2017-10-31</th>\n",
       "      <td>4605</td>\n",
       "      <td>7.0</td>\n",
       "    </tr>\n",
       "    <tr>\n",
       "      <th>2017-11-30</th>\n",
       "      <td>7507</td>\n",
       "      <td>8.0</td>\n",
       "    </tr>\n",
       "    <tr>\n",
       "      <th>2017-12-31</th>\n",
       "      <td>5662</td>\n",
       "      <td>10.0</td>\n",
       "    </tr>\n",
       "    <tr>\n",
       "      <th>2018-01-31</th>\n",
       "      <td>7235</td>\n",
       "      <td>8.0</td>\n",
       "    </tr>\n",
       "    <tr>\n",
       "      <th>2018-02-28</th>\n",
       "      <td>6655</td>\n",
       "      <td>11.0</td>\n",
       "    </tr>\n",
       "    <tr>\n",
       "      <th>2018-03-31</th>\n",
       "      <td>7185</td>\n",
       "      <td>11.0</td>\n",
       "    </tr>\n",
       "    <tr>\n",
       "      <th>2018-04-30</th>\n",
       "      <td>6924</td>\n",
       "      <td>7.0</td>\n",
       "    </tr>\n",
       "    <tr>\n",
       "      <th>2018-05-31</th>\n",
       "      <td>6849</td>\n",
       "      <td>6.0</td>\n",
       "    </tr>\n",
       "    <tr>\n",
       "      <th>2018-06-30</th>\n",
       "      <td>6149</td>\n",
       "      <td>6.0</td>\n",
       "    </tr>\n",
       "    <tr>\n",
       "      <th>2018-07-31</th>\n",
       "      <td>6251</td>\n",
       "      <td>5.0</td>\n",
       "    </tr>\n",
       "    <tr>\n",
       "      <th>2018-08-31</th>\n",
       "      <td>6428</td>\n",
       "      <td>5.0</td>\n",
       "    </tr>\n",
       "    <tr>\n",
       "      <th>2018-09-30</th>\n",
       "      <td>1</td>\n",
       "      <td>8.5</td>\n",
       "    </tr>\n",
       "  </tbody>\n",
       "</table>\n",
       "</div>"
      ],
      "text/plain": [
       "            number_orders  delivery_time (days)\n",
       "2016-09-30              2                   NaN\n",
       "2016-10-31            300                   3.0\n",
       "2016-11-30              0                   7.0\n",
       "2016-12-31              1                   3.5\n",
       "2017-01-31            797                   7.0\n",
       "2017-02-28           1763                   7.0\n",
       "2017-03-31           2649                   7.0\n",
       "2017-04-30           2386                   9.0\n",
       "2017-05-31           3671                   7.0\n",
       "2017-06-30           3229                   7.0\n",
       "2017-07-31           3998                   7.0\n",
       "2017-08-31           4304                   7.0\n",
       "2017-09-30           4265                   7.0\n",
       "2017-10-31           4605                   7.0\n",
       "2017-11-30           7507                   8.0\n",
       "2017-12-31           5662                  10.0\n",
       "2018-01-31           7235                   8.0\n",
       "2018-02-28           6655                  11.0\n",
       "2018-03-31           7185                  11.0\n",
       "2018-04-30           6924                   7.0\n",
       "2018-05-31           6849                   6.0\n",
       "2018-06-30           6149                   6.0\n",
       "2018-07-31           6251                   5.0\n",
       "2018-08-31           6428                   5.0\n",
       "2018-09-30              1                   8.5"
      ]
     },
     "execution_count": 40,
     "metadata": {},
     "output_type": "execute_result"
    }
   ],
   "source": [
    "figure_4"
   ]
  },
  {
   "cell_type": "markdown",
   "id": "fdf874f4",
   "metadata": {},
   "source": [
    "There are values of number_orders that are extremely different from the others that can be caused by incomplete data. So that we will re-calculate the correlation with filtered data."
   ]
  },
  {
   "cell_type": "code",
   "execution_count": 41,
   "id": "37cf5a41",
   "metadata": {},
   "outputs": [],
   "source": [
    "figure_4_filtered = figure_4.loc[\"2017-01-31\":\"2018-08-31\"]\n",
    "corr_figure_4_filtered = figure_4_filtered.corr()"
   ]
  },
  {
   "cell_type": "markdown",
   "id": "0cb9d8dd",
   "metadata": {},
   "source": [
    "The correlation of filtered data is visualized below:"
   ]
  },
  {
   "cell_type": "code",
   "execution_count": 42,
   "id": "eca6d51d",
   "metadata": {},
   "outputs": [
    {
     "data": {
      "image/png": "[encoded data removed]",
      "text/plain": [
       "<Figure size 432x288 with 2 Axes>"
      ]
     },
     "metadata": {
      "needs_background": "light"
     },
     "output_type": "display_data"
    }
   ],
   "source": [
    "# plot the data correlation\n",
    "sns.heatmap(corr_figure_4_filtered, annot = True, cmap = \"flare\", vmin = 0, vmax = 1)\n",
    "\n",
    "# format y-axis\n",
    "plt.yticks(va = \"center\")\n",
    "\n",
    "plt.show()"
   ]
  },
  {
   "cell_type": "markdown",
   "id": "2c55d099",
   "metadata": {},
   "source": [
    "After the filtration, the coefficient correlation decreased significantly from the previous 0.34 to 0.14. The *number_orders* and *delivery_time (days)* columns have a weak correlation before but now have a negligible correlation."
   ]
  },
  {
   "attachments": {},
   "cell_type": "markdown",
   "id": "6723c43d",
   "metadata": {},
   "source": [
    "<img src=\"Interpretation of Correlation Coefficients.jpeg\" width=\"400\">\n",
    "\n",
    "Source: [Interpretation of the Correlation Coefficient](https://journals.lww.com/anesthesia-analgesia/fulltext/2018/05000/correlation_coefficients__appropriate_use_and.50.aspx)"
   ]
  },
  {
   "cell_type": "markdown",
   "id": "d02caab1",
   "metadata": {},
   "source": [
    "**5. Whether the distance between the seller and the customer affect the delivery time?**"
   ]
  },
  {
   "cell_type": "markdown",
   "id": "09730db8",
   "metadata": {},
   "source": [
    "In order to answer this question, we have to know the seller and customer's location. So, in this case, we access the *olist_geolocation_dataset* table."
   ]
  },
  {
   "cell_type": "code",
   "execution_count": 43,
   "id": "e021c488",
   "metadata": {},
   "outputs": [],
   "source": [
    "geolocation = create_df(get_result(\"SELECT * FROM olist_geolocation_dataset\"),\n",
    "                        [\n",
    "                            \"index\",\n",
    "                            \"geolocation_zip_code_prefix\",\n",
    "                            \"geolocation_lat\",\n",
    "                            \"geolocation_lng\",\n",
    "                            \"geolocation_city\",\n",
    "                            \"geolocation_state\"\n",
    "                        ])"
   ]
  },
  {
   "cell_type": "code",
   "execution_count": 44,
   "id": "8e70472c",
   "metadata": {},
   "outputs": [
    {
     "data": {
      "text/html": [
       "<div>\n",
       "<style scoped>\n",
       "    .dataframe tbody tr th:only-of-type {\n",
       "        vertical-align: middle;\n",
       "    }\n",
       "\n",
       "    .dataframe tbody tr th {\n",
       "        vertical-align: top;\n",
       "    }\n",
       "\n",
       "    .dataframe thead th {\n",
       "        text-align: right;\n",
       "    }\n",
       "</style>\n",
       "<table border=\"1\" class=\"dataframe\">\n",
       "  <thead>\n",
       "    <tr style=\"text-align: right;\">\n",
       "      <th></th>\n",
       "      <th>geolocation_zip_code_prefix</th>\n",
       "      <th>geolocation_lat</th>\n",
       "      <th>geolocation_lng</th>\n",
       "      <th>geolocation_city</th>\n",
       "      <th>geolocation_state</th>\n",
       "    </tr>\n",
       "  </thead>\n",
       "  <tbody>\n",
       "    <tr>\n",
       "      <th>0</th>\n",
       "      <td>1037</td>\n",
       "      <td>-23.545621</td>\n",
       "      <td>-46.639292</td>\n",
       "      <td>sao paulo</td>\n",
       "      <td>SP</td>\n",
       "    </tr>\n",
       "    <tr>\n",
       "      <th>1</th>\n",
       "      <td>1046</td>\n",
       "      <td>-23.546081</td>\n",
       "      <td>-46.644820</td>\n",
       "      <td>sao paulo</td>\n",
       "      <td>SP</td>\n",
       "    </tr>\n",
       "    <tr>\n",
       "      <th>2</th>\n",
       "      <td>1046</td>\n",
       "      <td>-23.546129</td>\n",
       "      <td>-46.642951</td>\n",
       "      <td>sao paulo</td>\n",
       "      <td>SP</td>\n",
       "    </tr>\n",
       "    <tr>\n",
       "      <th>3</th>\n",
       "      <td>1041</td>\n",
       "      <td>-23.544392</td>\n",
       "      <td>-46.639499</td>\n",
       "      <td>sao paulo</td>\n",
       "      <td>SP</td>\n",
       "    </tr>\n",
       "    <tr>\n",
       "      <th>4</th>\n",
       "      <td>1035</td>\n",
       "      <td>-23.541578</td>\n",
       "      <td>-46.641607</td>\n",
       "      <td>sao paulo</td>\n",
       "      <td>SP</td>\n",
       "    </tr>\n",
       "  </tbody>\n",
       "</table>\n",
       "</div>"
      ],
      "text/plain": [
       "   geolocation_zip_code_prefix  geolocation_lat  geolocation_lng  \\\n",
       "0                         1037       -23.545621       -46.639292   \n",
       "1                         1046       -23.546081       -46.644820   \n",
       "2                         1046       -23.546129       -46.642951   \n",
       "3                         1041       -23.544392       -46.639499   \n",
       "4                         1035       -23.541578       -46.641607   \n",
       "\n",
       "  geolocation_city geolocation_state  \n",
       "0        sao paulo                SP  \n",
       "1        sao paulo                SP  \n",
       "2        sao paulo                SP  \n",
       "3        sao paulo                SP  \n",
       "4        sao paulo                SP  "
      ]
     },
     "execution_count": 44,
     "metadata": {},
     "output_type": "execute_result"
    }
   ],
   "source": [
    "geolocation.head()"
   ]
  },
  {
   "cell_type": "markdown",
   "id": "0aa2c279",
   "metadata": {},
   "source": [
    "After access the table, we will check the table info."
   ]
  },
  {
   "cell_type": "code",
   "execution_count": 45,
   "id": "3ab946df",
   "metadata": {},
   "outputs": [
    {
     "name": "stdout",
     "output_type": "stream",
     "text": [
      "<class 'pandas.core.frame.DataFrame'>\n",
      "RangeIndex: 1000163 entries, 0 to 1000162\n",
      "Data columns (total 5 columns):\n",
      " #   Column                       Non-Null Count    Dtype  \n",
      "---  ------                       --------------    -----  \n",
      " 0   geolocation_zip_code_prefix  1000163 non-null  int64  \n",
      " 1   geolocation_lat              1000163 non-null  float64\n",
      " 2   geolocation_lng              1000163 non-null  float64\n",
      " 3   geolocation_city             1000163 non-null  object \n",
      " 4   geolocation_state            1000163 non-null  object \n",
      "dtypes: float64(2), int64(1), object(2)\n",
      "memory usage: 38.2+ MB\n"
     ]
    }
   ],
   "source": [
    "geolocation.info()"
   ]
  },
  {
   "cell_type": "markdown",
   "id": "c3806f3c",
   "metadata": {},
   "source": [
    "In the table, there are 1000163 entries, and seems like there's no null value in the table. But, the *geolocation_zip_code_prefix* is more suitable to be an object data type."
   ]
  },
  {
   "cell_type": "code",
   "execution_count": 46,
   "id": "b3da06fb",
   "metadata": {},
   "outputs": [
    {
     "name": "stdout",
     "output_type": "stream",
     "text": [
      "<class 'pandas.core.frame.DataFrame'>\n",
      "RangeIndex: 1000163 entries, 0 to 1000162\n",
      "Data columns (total 5 columns):\n",
      " #   Column                       Non-Null Count    Dtype  \n",
      "---  ------                       --------------    -----  \n",
      " 0   geolocation_zip_code_prefix  1000163 non-null  object \n",
      " 1   geolocation_lat              1000163 non-null  float64\n",
      " 2   geolocation_lng              1000163 non-null  float64\n",
      " 3   geolocation_city             1000163 non-null  object \n",
      " 4   geolocation_state            1000163 non-null  object \n",
      "dtypes: float64(2), object(3)\n",
      "memory usage: 38.2+ MB\n"
     ]
    }
   ],
   "source": [
    "geolocation[\"geolocation_zip_code_prefix\"] = geolocation[\"geolocation_zip_code_prefix\"].astype(\"object\")\n",
    "\n",
    "geolocation.info()"
   ]
  },
  {
   "cell_type": "markdown",
   "id": "cb005d29",
   "metadata": {},
   "source": [
    "Then, we will check for the string values is there any inconsistency in the data. First, we will find unique value for the *geolocation_city* column."
   ]
  },
  {
   "cell_type": "code",
   "execution_count": 47,
   "id": "aa37557e",
   "metadata": {
    "scrolled": false
   },
   "outputs": [
    {
     "data": {
      "text/plain": [
       "array(['sao paulo', 'são paulo', 'sao bernardo do campo', ..., 'ciríaco',\n",
       "       'estação', 'vila lângaro'], dtype=object)"
      ]
     },
     "execution_count": 47,
     "metadata": {},
     "output_type": "execute_result"
    }
   ],
   "source": [
    "geolocation[\"geolocation_city\"].unique()"
   ]
  },
  {
   "cell_type": "markdown",
   "id": "4b9d8ca7",
   "metadata": {},
   "source": [
    "Seems like there are inconsistencies in the *geolocation_city* column, can be seen from the city \"sao paulo\" and \"são paulo\" are inconsistent in the letter \"a\".\n",
    "\n",
    "To fix this problem we define two functions, the first function is to extract every single letter or character in the column."
   ]
  },
  {
   "cell_type": "code",
   "execution_count": 48,
   "id": "36c5a13a",
   "metadata": {},
   "outputs": [],
   "source": [
    "def uniq(to_search):\n",
    "    \"\"\"\n",
    "    Parameters\n",
    "    ==========\n",
    "    to_search : Series\n",
    "                data that want to be extract\n",
    "            \n",
    "    Returns\n",
    "    ==========\n",
    "    data : set\n",
    "           unique character in the to_search Series\n",
    "    \"\"\"\n",
    "    \n",
    "    uniq_char = set()\n",
    "    \n",
    "    for i in to_search.unique():\n",
    "        if i is None:\n",
    "            continue\n",
    "        else:\n",
    "            for j in i.split():\n",
    "                for k in j.split()[0]:\n",
    "                    uniq_char.add(k)\n",
    "                \n",
    "    print(uniq_char)"
   ]
  },
  {
   "cell_type": "markdown",
   "id": "de06b006",
   "metadata": {},
   "source": [
    "With this function, we can see every unique single letter and character in the *geolocation_city* column and find the inconsistency."
   ]
  },
  {
   "cell_type": "code",
   "execution_count": 49,
   "id": "1ba6311c",
   "metadata": {},
   "outputs": [
    {
     "name": "stdout",
     "output_type": "stream",
     "text": [
      "{'p', 'ó', 'r', '³', 'ô', 't', ')', 'e', '6', 'f', 's', 'k', 'n', '.', 'í', 'i', 'g', \"'\", 'ü', ',', '´', '£', '&', 'o', '*', 'q', 'h', 'õ', 'j', 'é', 'z', 'â', '3', 'º', 'c', '1', '-', 'd', '(', 'b', 'x', 'l', 'w', 'ã', '`', 'ú', 'v', 'm', 'ç', 'a', '2', 'ê', 'á', 'y', '4', '%', 'u', ';'}\n"
     ]
    }
   ],
   "source": [
    "uniq(geolocation[\"geolocation_city\"])"
   ]
  },
  {
   "cell_type": "markdown",
   "id": "733e871c",
   "metadata": {},
   "source": [
    "After that, we assign a dictionary that stores the inconsistent or strange characters and the replacement."
   ]
  },
  {
   "cell_type": "code",
   "execution_count": 50,
   "id": "e8a6edbb",
   "metadata": {},
   "outputs": [],
   "source": [
    "replaced_char = {\"ã\":\"a\",\n",
    "                 \"á\":\"a\",\n",
    "                 \"â\":\"a\",\n",
    "                 \"ç\":\"c\",\n",
    "                 \"é\":\"e\",\n",
    "                 \"ê\":\"e\",\n",
    "                 \"í\":\"i\",\n",
    "                 \"ó\":\"o\",\n",
    "                 \"õ\":\"o\",\n",
    "                 \"ô\":\"o\",\n",
    "                 \"ü\":\"u\",\n",
    "                 \"ú\":\"u\",\n",
    "                 \"-\":\" \",\n",
    "                 \"`\":\"\",\n",
    "                 \"´\":\"\",\n",
    "                 \",\":\"\",\n",
    "                 \"%\":\"\",\n",
    "                 \"'\":\"\",\n",
    "                 \"*\":\"\",\n",
    "                 \"&\":\"\",\n",
    "                 \";\":\"\",\n",
    "                 \"º\":\"\",\n",
    "                 \"(\":\"\",\n",
    "                 \")\":\"\",\n",
    "                 \"³\":\"\",\n",
    "                 \".\":\"\",\n",
    "                 \"£\":\"\",\n",
    "                 \"1\":\"\",\n",
    "                 \"2\":\"\",\n",
    "                 \"3\":\"\",\n",
    "                 \"4\":\"\",\n",
    "                 \"6\":\"\"\n",
    "                }"
   ]
  },
  {
   "cell_type": "markdown",
   "id": "c1e9dd91",
   "metadata": {},
   "source": [
    "The second function below is defined as a function to replace the character in the column."
   ]
  },
  {
   "cell_type": "code",
   "execution_count": 51,
   "id": "37189d90",
   "metadata": {
    "scrolled": true
   },
   "outputs": [],
   "source": [
    "def fix_char(replaced_char, to_fix):\n",
    "    \"\"\"\n",
    "    Parameters\n",
    "    ==========\n",
    "    replaced_char : dictionary\n",
    "                    consist of character that want to replaced and the replacement\n",
    "    \n",
    "    to_fix : Series\n",
    "             data that want to replace\n",
    "            \n",
    "    \"\"\"\n",
    "    for old_char, new_char in replaced_char.items():\n",
    "        to_fix = to_fix.str.replace(old_char, new_char, regex = True)\n",
    "    \n",
    "    return to_fix"
   ]
  },
  {
   "cell_type": "markdown",
   "id": "d3f57ce2",
   "metadata": {},
   "source": [
    "With applied the function above, we replace the character in the *geolocation_city* column with the character assign in the *replaced_char*."
   ]
  },
  {
   "cell_type": "code",
   "execution_count": 52,
   "id": "179a5160",
   "metadata": {},
   "outputs": [],
   "source": [
    "geolocation.loc[:,\"geolocation_city\"] = fix_char(replaced_char, geolocation[\"geolocation_city\"])"
   ]
  },
  {
   "cell_type": "markdown",
   "id": "1d34d132",
   "metadata": {},
   "source": [
    "After replacing the inconsistent character, then re-check the column character."
   ]
  },
  {
   "cell_type": "code",
   "execution_count": 53,
   "id": "040c6773",
   "metadata": {},
   "outputs": [
    {
     "name": "stdout",
     "output_type": "stream",
     "text": [
      "{'p', 'r', 't', 'e', 'f', 's', 'k', 'n', 'i', 'g', 'o', 'q', 'h', 'j', 'z', 'c', 'd', 'b', 'x', 'l', 'w', 'v', 'm', 'a', 'y', 'u'}\n"
     ]
    }
   ],
   "source": [
    "uniq(geolocation[\"geolocation_city\"])"
   ]
  },
  {
   "cell_type": "markdown",
   "id": "ef5c9121",
   "metadata": {},
   "source": [
    "Now, the characters have been consistent.\n",
    "\n",
    "We will do the same process with *geolocation_state* column."
   ]
  },
  {
   "cell_type": "code",
   "execution_count": 54,
   "id": "78c9724f",
   "metadata": {},
   "outputs": [
    {
     "name": "stdout",
     "output_type": "stream",
     "text": [
      "{'E', 'D', 'I', 'J', 'O', 'P', 'T', 'S', 'L', 'M', 'F', 'B', 'G', 'N', 'C', 'R', 'A'}\n"
     ]
    }
   ],
   "source": [
    "uniq(geolocation[\"geolocation_state\"])"
   ]
  },
  {
   "cell_type": "markdown",
   "id": "434f53ff",
   "metadata": {},
   "source": [
    "The values have been consistent already.\n",
    "\n",
    "After fixing the inconsistency, we want to check if there are any duplicate data in the table."
   ]
  },
  {
   "cell_type": "code",
   "execution_count": 55,
   "id": "ad83ac40",
   "metadata": {},
   "outputs": [
    {
     "data": {
      "text/plain": [
       "279749"
      ]
     },
     "execution_count": 55,
     "metadata": {},
     "output_type": "execute_result"
    }
   ],
   "source": [
    "geolocation.duplicated().sum()"
   ]
  },
  {
   "cell_type": "markdown",
   "id": "761f8f59",
   "metadata": {},
   "source": [
    "Turns out, there are 279749 duplicate data and we will only keep one data and drop the others."
   ]
  },
  {
   "cell_type": "code",
   "execution_count": 56,
   "id": "cc8f6a38",
   "metadata": {},
   "outputs": [],
   "source": [
    "geolocation = geolocation.drop_duplicates(keep = \"first\")"
   ]
  },
  {
   "cell_type": "markdown",
   "id": "e545cc69",
   "metadata": {},
   "source": [
    "As a primary key, we want the *geolocation_zip_code_prefix*, *geolocation_city*, and *geolocation_state* columns to be unique to determine seller and customer location (latitude and longitude). But, as we see below, some combinations of the three columns have different latitude and longitude."
   ]
  },
  {
   "cell_type": "code",
   "execution_count": 57,
   "id": "2842b3de",
   "metadata": {},
   "outputs": [
    {
     "data": {
      "text/plain": [
       "geolocation_zip_code_prefix  geolocation_city      geolocation_state\n",
       "38400                        uberlandia            MG                   746\n",
       "11680                        ubatuba               SP                   727\n",
       "35500                        divinopolis           MG                   726\n",
       "11740                        itanhaem              SP                   666\n",
       "36400                        conselheiro lafaiete  MG                   627\n",
       "                                                                       ... \n",
       "72460                        brasilia              DF                     1\n",
       "13381                        nova odessa           SP                     1\n",
       "58291                        curral de cima        PB                     1\n",
       "45996                        teixeira de freitas   BA                     1\n",
       "13507                        rio claro             SP                     1\n",
       "Length: 19561, dtype: int64"
      ]
     },
     "execution_count": 57,
     "metadata": {},
     "output_type": "execute_result"
    }
   ],
   "source": [
    "geolocation[[\"geolocation_zip_code_prefix\",\n",
    "             \"geolocation_city\",\n",
    "             \"geolocation_state\"]].value_counts()"
   ]
  },
  {
   "cell_type": "markdown",
   "id": "61514876",
   "metadata": {},
   "source": [
    "To fix that, we decide to determine the latitude and longitude with the average of each of them grouped by *geolocation_zip_code_prefix*, *geolocation_city*, and *geolocation_state*."
   ]
  },
  {
   "cell_type": "code",
   "execution_count": 58,
   "id": "4cf76b05",
   "metadata": {},
   "outputs": [],
   "source": [
    "geo_index = [\"geolocation_zip_code_prefix\",\"geolocation_city\",\"geolocation_state\"]\n",
    "geolocation = geolocation.groupby(geo_index).mean().reset_index()"
   ]
  },
  {
   "cell_type": "code",
   "execution_count": 59,
   "id": "be8a42ec",
   "metadata": {
    "scrolled": true
   },
   "outputs": [
    {
     "data": {
      "text/html": [
       "<div>\n",
       "<style scoped>\n",
       "    .dataframe tbody tr th:only-of-type {\n",
       "        vertical-align: middle;\n",
       "    }\n",
       "\n",
       "    .dataframe tbody tr th {\n",
       "        vertical-align: top;\n",
       "    }\n",
       "\n",
       "    .dataframe thead th {\n",
       "        text-align: right;\n",
       "    }\n",
       "</style>\n",
       "<table border=\"1\" class=\"dataframe\">\n",
       "  <thead>\n",
       "    <tr style=\"text-align: right;\">\n",
       "      <th></th>\n",
       "      <th>geolocation_zip_code_prefix</th>\n",
       "      <th>geolocation_city</th>\n",
       "      <th>geolocation_state</th>\n",
       "      <th>geolocation_lat</th>\n",
       "      <th>geolocation_lng</th>\n",
       "    </tr>\n",
       "  </thead>\n",
       "  <tbody>\n",
       "    <tr>\n",
       "      <th>0</th>\n",
       "      <td>1001</td>\n",
       "      <td>sao paulo</td>\n",
       "      <td>SP</td>\n",
       "      <td>-23.550271</td>\n",
       "      <td>-46.634047</td>\n",
       "    </tr>\n",
       "    <tr>\n",
       "      <th>1</th>\n",
       "      <td>1002</td>\n",
       "      <td>sao paulo</td>\n",
       "      <td>SP</td>\n",
       "      <td>-23.547657</td>\n",
       "      <td>-46.634991</td>\n",
       "    </tr>\n",
       "    <tr>\n",
       "      <th>2</th>\n",
       "      <td>1003</td>\n",
       "      <td>sao paulo</td>\n",
       "      <td>SP</td>\n",
       "      <td>-23.548991</td>\n",
       "      <td>-46.635653</td>\n",
       "    </tr>\n",
       "    <tr>\n",
       "      <th>3</th>\n",
       "      <td>1004</td>\n",
       "      <td>sao paulo</td>\n",
       "      <td>SP</td>\n",
       "      <td>-23.549829</td>\n",
       "      <td>-46.634792</td>\n",
       "    </tr>\n",
       "    <tr>\n",
       "      <th>4</th>\n",
       "      <td>1005</td>\n",
       "      <td>sao paulo</td>\n",
       "      <td>SP</td>\n",
       "      <td>-23.549487</td>\n",
       "      <td>-46.636650</td>\n",
       "    </tr>\n",
       "  </tbody>\n",
       "</table>\n",
       "</div>"
      ],
      "text/plain": [
       "   geolocation_zip_code_prefix geolocation_city geolocation_state  \\\n",
       "0                         1001        sao paulo                SP   \n",
       "1                         1002        sao paulo                SP   \n",
       "2                         1003        sao paulo                SP   \n",
       "3                         1004        sao paulo                SP   \n",
       "4                         1005        sao paulo                SP   \n",
       "\n",
       "   geolocation_lat  geolocation_lng  \n",
       "0       -23.550271       -46.634047  \n",
       "1       -23.547657       -46.634991  \n",
       "2       -23.548991       -46.635653  \n",
       "3       -23.549829       -46.634792  \n",
       "4       -23.549487       -46.636650  "
      ]
     },
     "execution_count": 59,
     "metadata": {},
     "output_type": "execute_result"
    }
   ],
   "source": [
    "geolocation.head()"
   ]
  },
  {
   "cell_type": "markdown",
   "id": "dd353d1d",
   "metadata": {},
   "source": [
    "Re-check the counts of each location."
   ]
  },
  {
   "cell_type": "code",
   "execution_count": 60,
   "id": "551efc64",
   "metadata": {},
   "outputs": [
    {
     "data": {
      "text/plain": [
       "geolocation_zip_code_prefix  geolocation_city     geolocation_state\n",
       "1001                         sao paulo            SP                   1\n",
       "62320                        tiangua              CE                   1\n",
       "62380                        guaraciaba do norte  CE                   1\n",
       "62375                        carnaubal            CE                   1\n",
       "62370                        sao benedito         CE                   1\n",
       "                                                                      ..\n",
       "20785                        rio de janeiro       RJ                   1\n",
       "20780                        rio de janeiro       RJ                   1\n",
       "20776                        rio de janeiro       RJ                   1\n",
       "20775                        rio de janeiro       RJ                   1\n",
       "99990                        muliterno            RS                   1\n",
       "Length: 19561, dtype: int64"
      ]
     },
     "execution_count": 60,
     "metadata": {},
     "output_type": "execute_result"
    }
   ],
   "source": [
    "geolocation[[\"geolocation_zip_code_prefix\",\n",
    "             \"geolocation_city\",\n",
    "             \"geolocation_state\"]].value_counts()"
   ]
  },
  {
   "cell_type": "markdown",
   "id": "118bef5d",
   "metadata": {},
   "source": [
    "Finally, each location only has 1 latitude and 1 longitude.\n",
    "\n",
    "Next, we re-access the database to get the seller's location for each order. In order to do that, we have to join some tables such as *olist_order_dataset*, *olist_order_items_dataset*, and *olist_sellers_dataset* using their primary and foreign key. We don't access all columns, but only the columns required."
   ]
  },
  {
   "cell_type": "code",
   "execution_count": 61,
   "id": "a642d7dd",
   "metadata": {},
   "outputs": [],
   "source": [
    "seller = create_df(get_result(\"SELECT 0,\\\n",
    "                                      order_id,\\\n",
    "                                      order_delivered_carrier_date,\\\n",
    "                                      order_delivered_customer_date,\\\n",
    "                                      seller_id,\\\n",
    "                                      seller_zip_code_prefix,\\\n",
    "                                      seller_city,\\\n",
    "                                      seller_state\\\n",
    "                              FROM olist_order_dataset\\\n",
    "                              LEFT JOIN olist_order_items_dataset USING(order_id)\\\n",
    "                              LEFT JOIN olist_sellers_dataset USING(seller_id)\"),\n",
    "                   [\n",
    "                       \"index\",\n",
    "                       \"order_id\",\n",
    "                       \"order_delivered_carrier_date\",\n",
    "                       \"order_delivered_customer_date\",\n",
    "                       \"seller_id\",\n",
    "                       \"seller_zip_code_prefix\",\n",
    "                       \"seller_city\",\n",
    "                       \"seller_state\"\n",
    "                   ])"
   ]
  },
  {
   "cell_type": "code",
   "execution_count": 62,
   "id": "1193fcdd",
   "metadata": {
    "scrolled": true
   },
   "outputs": [
    {
     "data": {
      "text/html": [
       "<div>\n",
       "<style scoped>\n",
       "    .dataframe tbody tr th:only-of-type {\n",
       "        vertical-align: middle;\n",
       "    }\n",
       "\n",
       "    .dataframe tbody tr th {\n",
       "        vertical-align: top;\n",
       "    }\n",
       "\n",
       "    .dataframe thead th {\n",
       "        text-align: right;\n",
       "    }\n",
       "</style>\n",
       "<table border=\"1\" class=\"dataframe\">\n",
       "  <thead>\n",
       "    <tr style=\"text-align: right;\">\n",
       "      <th></th>\n",
       "      <th>order_id</th>\n",
       "      <th>order_delivered_carrier_date</th>\n",
       "      <th>order_delivered_customer_date</th>\n",
       "      <th>seller_id</th>\n",
       "      <th>seller_zip_code_prefix</th>\n",
       "      <th>seller_city</th>\n",
       "      <th>seller_state</th>\n",
       "    </tr>\n",
       "  </thead>\n",
       "  <tbody>\n",
       "    <tr>\n",
       "      <th>0</th>\n",
       "      <td>e481f51cbdc54678b7cc49136f2d6af7</td>\n",
       "      <td>2017-10-04 19:55:00</td>\n",
       "      <td>2017-10-10 21:25:13</td>\n",
       "      <td>3504c0cb71d7fa48d967e0e4c94d59d9</td>\n",
       "      <td>9350.0</td>\n",
       "      <td>maua</td>\n",
       "      <td>SP</td>\n",
       "    </tr>\n",
       "    <tr>\n",
       "      <th>1</th>\n",
       "      <td>53cdb2fc8bc7dce0b6741e2150273451</td>\n",
       "      <td>2018-07-26 14:31:00</td>\n",
       "      <td>2018-08-07 15:27:45</td>\n",
       "      <td>289cdb325fb7e7f891c38608bf9e0962</td>\n",
       "      <td>31570.0</td>\n",
       "      <td>belo horizonte</td>\n",
       "      <td>SP</td>\n",
       "    </tr>\n",
       "    <tr>\n",
       "      <th>2</th>\n",
       "      <td>47770eb9100c2d0c44946d9cf07ec65d</td>\n",
       "      <td>2018-08-08 13:50:00</td>\n",
       "      <td>2018-08-17 18:06:29</td>\n",
       "      <td>4869f7a5dfa277a7dca6462dcf3b52b2</td>\n",
       "      <td>14840.0</td>\n",
       "      <td>guariba</td>\n",
       "      <td>SP</td>\n",
       "    </tr>\n",
       "    <tr>\n",
       "      <th>3</th>\n",
       "      <td>949d5b44dbf5de918fe9c16f97b45f8a</td>\n",
       "      <td>2017-11-22 13:39:59</td>\n",
       "      <td>2017-12-02 00:28:42</td>\n",
       "      <td>66922902710d126a0e7d26b0e3805106</td>\n",
       "      <td>31842.0</td>\n",
       "      <td>belo horizonte</td>\n",
       "      <td>MG</td>\n",
       "    </tr>\n",
       "    <tr>\n",
       "      <th>4</th>\n",
       "      <td>ad21c59c0840e6cb83a9ceb5573f8159</td>\n",
       "      <td>2018-02-14 19:46:34</td>\n",
       "      <td>2018-02-16 18:17:02</td>\n",
       "      <td>2c9e548be18521d1c43cde1c582c6de8</td>\n",
       "      <td>8752.0</td>\n",
       "      <td>mogi das cruzes</td>\n",
       "      <td>SP</td>\n",
       "    </tr>\n",
       "  </tbody>\n",
       "</table>\n",
       "</div>"
      ],
      "text/plain": [
       "                           order_id order_delivered_carrier_date  \\\n",
       "0  e481f51cbdc54678b7cc49136f2d6af7          2017-10-04 19:55:00   \n",
       "1  53cdb2fc8bc7dce0b6741e2150273451          2018-07-26 14:31:00   \n",
       "2  47770eb9100c2d0c44946d9cf07ec65d          2018-08-08 13:50:00   \n",
       "3  949d5b44dbf5de918fe9c16f97b45f8a          2017-11-22 13:39:59   \n",
       "4  ad21c59c0840e6cb83a9ceb5573f8159          2018-02-14 19:46:34   \n",
       "\n",
       "  order_delivered_customer_date                         seller_id  \\\n",
       "0           2017-10-10 21:25:13  3504c0cb71d7fa48d967e0e4c94d59d9   \n",
       "1           2018-08-07 15:27:45  289cdb325fb7e7f891c38608bf9e0962   \n",
       "2           2018-08-17 18:06:29  4869f7a5dfa277a7dca6462dcf3b52b2   \n",
       "3           2017-12-02 00:28:42  66922902710d126a0e7d26b0e3805106   \n",
       "4           2018-02-16 18:17:02  2c9e548be18521d1c43cde1c582c6de8   \n",
       "\n",
       "   seller_zip_code_prefix      seller_city seller_state  \n",
       "0                  9350.0             maua           SP  \n",
       "1                 31570.0   belo horizonte           SP  \n",
       "2                 14840.0          guariba           SP  \n",
       "3                 31842.0   belo horizonte           MG  \n",
       "4                  8752.0  mogi das cruzes           SP  "
      ]
     },
     "execution_count": 62,
     "metadata": {},
     "output_type": "execute_result"
    }
   ],
   "source": [
    "seller.head()"
   ]
  },
  {
   "cell_type": "markdown",
   "id": "c60b2348",
   "metadata": {},
   "source": [
    "Because *olist_order_items_dataset* is an order detail for each order in *olist_order_dataset*, we expect there are duplicated data in the data we access."
   ]
  },
  {
   "cell_type": "code",
   "execution_count": 63,
   "id": "66149fa7",
   "metadata": {},
   "outputs": [
    {
     "data": {
      "text/plain": [
       "12640"
      ]
     },
     "execution_count": 63,
     "metadata": {},
     "output_type": "execute_result"
    }
   ],
   "source": [
    "seller.duplicated().sum()"
   ]
  },
  {
   "cell_type": "markdown",
   "id": "39ac25b8",
   "metadata": {},
   "source": [
    "As our expectation, there are 12640 duplicates data, we'll drop them and only keep one data in the table."
   ]
  },
  {
   "cell_type": "code",
   "execution_count": 64,
   "id": "56059a16",
   "metadata": {},
   "outputs": [],
   "source": [
    "seller = seller.drop_duplicates(keep = \"first\")"
   ]
  },
  {
   "cell_type": "code",
   "execution_count": 65,
   "id": "8ad36721",
   "metadata": {
    "scrolled": true
   },
   "outputs": [
    {
     "data": {
      "text/html": [
       "<div>\n",
       "<style scoped>\n",
       "    .dataframe tbody tr th:only-of-type {\n",
       "        vertical-align: middle;\n",
       "    }\n",
       "\n",
       "    .dataframe tbody tr th {\n",
       "        vertical-align: top;\n",
       "    }\n",
       "\n",
       "    .dataframe thead th {\n",
       "        text-align: right;\n",
       "    }\n",
       "</style>\n",
       "<table border=\"1\" class=\"dataframe\">\n",
       "  <thead>\n",
       "    <tr style=\"text-align: right;\">\n",
       "      <th></th>\n",
       "      <th>order_id</th>\n",
       "      <th>order_delivered_carrier_date</th>\n",
       "      <th>order_delivered_customer_date</th>\n",
       "      <th>seller_id</th>\n",
       "      <th>seller_zip_code_prefix</th>\n",
       "      <th>seller_city</th>\n",
       "      <th>seller_state</th>\n",
       "    </tr>\n",
       "  </thead>\n",
       "  <tbody>\n",
       "    <tr>\n",
       "      <th>0</th>\n",
       "      <td>e481f51cbdc54678b7cc49136f2d6af7</td>\n",
       "      <td>2017-10-04 19:55:00</td>\n",
       "      <td>2017-10-10 21:25:13</td>\n",
       "      <td>3504c0cb71d7fa48d967e0e4c94d59d9</td>\n",
       "      <td>9350.0</td>\n",
       "      <td>maua</td>\n",
       "      <td>SP</td>\n",
       "    </tr>\n",
       "    <tr>\n",
       "      <th>1</th>\n",
       "      <td>53cdb2fc8bc7dce0b6741e2150273451</td>\n",
       "      <td>2018-07-26 14:31:00</td>\n",
       "      <td>2018-08-07 15:27:45</td>\n",
       "      <td>289cdb325fb7e7f891c38608bf9e0962</td>\n",
       "      <td>31570.0</td>\n",
       "      <td>belo horizonte</td>\n",
       "      <td>SP</td>\n",
       "    </tr>\n",
       "    <tr>\n",
       "      <th>2</th>\n",
       "      <td>47770eb9100c2d0c44946d9cf07ec65d</td>\n",
       "      <td>2018-08-08 13:50:00</td>\n",
       "      <td>2018-08-17 18:06:29</td>\n",
       "      <td>4869f7a5dfa277a7dca6462dcf3b52b2</td>\n",
       "      <td>14840.0</td>\n",
       "      <td>guariba</td>\n",
       "      <td>SP</td>\n",
       "    </tr>\n",
       "    <tr>\n",
       "      <th>3</th>\n",
       "      <td>949d5b44dbf5de918fe9c16f97b45f8a</td>\n",
       "      <td>2017-11-22 13:39:59</td>\n",
       "      <td>2017-12-02 00:28:42</td>\n",
       "      <td>66922902710d126a0e7d26b0e3805106</td>\n",
       "      <td>31842.0</td>\n",
       "      <td>belo horizonte</td>\n",
       "      <td>MG</td>\n",
       "    </tr>\n",
       "    <tr>\n",
       "      <th>4</th>\n",
       "      <td>ad21c59c0840e6cb83a9ceb5573f8159</td>\n",
       "      <td>2018-02-14 19:46:34</td>\n",
       "      <td>2018-02-16 18:17:02</td>\n",
       "      <td>2c9e548be18521d1c43cde1c582c6de8</td>\n",
       "      <td>8752.0</td>\n",
       "      <td>mogi das cruzes</td>\n",
       "      <td>SP</td>\n",
       "    </tr>\n",
       "  </tbody>\n",
       "</table>\n",
       "</div>"
      ],
      "text/plain": [
       "                           order_id order_delivered_carrier_date  \\\n",
       "0  e481f51cbdc54678b7cc49136f2d6af7          2017-10-04 19:55:00   \n",
       "1  53cdb2fc8bc7dce0b6741e2150273451          2018-07-26 14:31:00   \n",
       "2  47770eb9100c2d0c44946d9cf07ec65d          2018-08-08 13:50:00   \n",
       "3  949d5b44dbf5de918fe9c16f97b45f8a          2017-11-22 13:39:59   \n",
       "4  ad21c59c0840e6cb83a9ceb5573f8159          2018-02-14 19:46:34   \n",
       "\n",
       "  order_delivered_customer_date                         seller_id  \\\n",
       "0           2017-10-10 21:25:13  3504c0cb71d7fa48d967e0e4c94d59d9   \n",
       "1           2018-08-07 15:27:45  289cdb325fb7e7f891c38608bf9e0962   \n",
       "2           2018-08-17 18:06:29  4869f7a5dfa277a7dca6462dcf3b52b2   \n",
       "3           2017-12-02 00:28:42  66922902710d126a0e7d26b0e3805106   \n",
       "4           2018-02-16 18:17:02  2c9e548be18521d1c43cde1c582c6de8   \n",
       "\n",
       "   seller_zip_code_prefix      seller_city seller_state  \n",
       "0                  9350.0             maua           SP  \n",
       "1                 31570.0   belo horizonte           SP  \n",
       "2                 14840.0          guariba           SP  \n",
       "3                 31842.0   belo horizonte           MG  \n",
       "4                  8752.0  mogi das cruzes           SP  "
      ]
     },
     "execution_count": 65,
     "metadata": {},
     "output_type": "execute_result"
    }
   ],
   "source": [
    "seller.head()"
   ]
  },
  {
   "cell_type": "markdown",
   "id": "0697e8b9",
   "metadata": {},
   "source": [
    "Next, we want to see the *seller* table info."
   ]
  },
  {
   "cell_type": "code",
   "execution_count": 66,
   "id": "678b5450",
   "metadata": {},
   "outputs": [
    {
     "name": "stdout",
     "output_type": "stream",
     "text": [
      "<class 'pandas.core.frame.DataFrame'>\n",
      "Int64Index: 100785 entries, 0 to 113424\n",
      "Data columns (total 7 columns):\n",
      " #   Column                         Non-Null Count   Dtype  \n",
      "---  ------                         --------------   -----  \n",
      " 0   order_id                       100785 non-null  object \n",
      " 1   order_delivered_carrier_date   99001 non-null   object \n",
      " 2   order_delivered_customer_date  97817 non-null   object \n",
      " 3   seller_id                      100010 non-null  object \n",
      " 4   seller_zip_code_prefix         100010 non-null  float64\n",
      " 5   seller_city                    100010 non-null  object \n",
      " 6   seller_state                   100010 non-null  object \n",
      "dtypes: float64(1), object(6)\n",
      "memory usage: 6.2+ MB\n"
     ]
    }
   ],
   "source": [
    "seller.info()"
   ]
  },
  {
   "cell_type": "markdown",
   "id": "d8191752",
   "metadata": {},
   "source": [
    "There are 100785 entries with 7 columns. Some columns seem like have missing values and don't match the data type.\n",
    "\n",
    "First, we want to fix the data type. The missing values will be done at the end of the cleaning process."
   ]
  },
  {
   "cell_type": "code",
   "execution_count": 67,
   "id": "ec29761f",
   "metadata": {},
   "outputs": [
    {
     "name": "stdout",
     "output_type": "stream",
     "text": [
      "<class 'pandas.core.frame.DataFrame'>\n",
      "Int64Index: 100785 entries, 0 to 113424\n",
      "Data columns (total 7 columns):\n",
      " #   Column                         Non-Null Count   Dtype         \n",
      "---  ------                         --------------   -----         \n",
      " 0   order_id                       100785 non-null  object        \n",
      " 1   order_delivered_carrier_date   99001 non-null   datetime64[ns]\n",
      " 2   order_delivered_customer_date  97817 non-null   datetime64[ns]\n",
      " 3   seller_id                      100010 non-null  object        \n",
      " 4   seller_zip_code_prefix         100010 non-null  object        \n",
      " 5   seller_city                    100010 non-null  object        \n",
      " 6   seller_state                   100010 non-null  object        \n",
      "dtypes: datetime64[ns](2), object(5)\n",
      "memory usage: 8.2+ MB\n"
     ]
    }
   ],
   "source": [
    "date_type = [\"order_delivered_carrier_date\",\n",
    "              \"order_delivered_customer_date\"]\n",
    "seller[date_type] = pd.to_datetime(seller[date_type].stack()).unstack()\n",
    "\n",
    "seller = seller.astype({\"seller_zip_code_prefix\": \"object\"})\n",
    "\n",
    "seller.info()"
   ]
  },
  {
   "cell_type": "markdown",
   "id": "34b53b05",
   "metadata": {},
   "source": [
    "Next, find out if there are any inconsistencies in the seller_city column."
   ]
  },
  {
   "cell_type": "code",
   "execution_count": 68,
   "id": "4b1e1f71",
   "metadata": {},
   "outputs": [
    {
     "name": "stdout",
     "output_type": "stream",
     "text": [
      "{'p', 'r', '̃', '.', 't', ')', 'e', 'f', 's', 'n', 'i', 'g', \"'\", ',', '´', 'o', 'q', '5', 'h', 'z', 'j', '/', '0', '8', 'c', '\\\\', '@', '-', 'd', '(', 'b', 'x', 'l', 'v', 'm', 'a', '2', 'y', '4', 'u'}\n"
     ]
    }
   ],
   "source": [
    "uniq(seller[\"seller_city\"])"
   ]
  },
  {
   "cell_type": "markdown",
   "id": "1cf1990c",
   "metadata": {},
   "source": [
    "Assign a dictionary required to fix the inconsistent and strange character."
   ]
  },
  {
   "cell_type": "code",
   "execution_count": 69,
   "id": "2e8b3226",
   "metadata": {},
   "outputs": [],
   "source": [
    "replaced_char = {\")\":\"\",\n",
    "                 \"(\":\"\",\n",
    "                 \"\\\\\":\"\",\n",
    "                 \"/\":\"\",\n",
    "                 \"'\":\"\",\n",
    "                 \".\":\"\",\n",
    "                  \"@\":\"\",\n",
    "                 \"̃\":\"\",\n",
    "                 \"´\":\"\",\n",
    "                 \"0\":\"\",\n",
    "                 \",\":\"\",\n",
    "                 \"2\":\"\",\n",
    "                 \"4\":\"\",\n",
    "                 \"5\":\"\",\n",
    "                 \"8\":\"\",\n",
    "                 \"-\":\"\",\n",
    "                 \"riberao\":\"ribeirao\",  # here to below is replaced to match state in the geolocation table\n",
    "                 \"santo andresao paulo\":\"santo andre\",\n",
    "                 \"sando andre\":\"santo andre\",\n",
    "                 \"s jose do rio preto\":\"sao jose do rio preto\",\n",
    "                 \"sao paulo  sp\":\"sao paulo\",\n",
    "                 \"scao jose do rio pardo\":\"sao jose do rio pardo\",\n",
    "                 \"ribeirao preto  sao paulo\":\"ribeirao preto\"\n",
    "                }"
   ]
  },
  {
   "cell_type": "markdown",
   "id": "f86fe50a",
   "metadata": {},
   "source": [
    "Then, replace and fix the character in the *seller_city* column."
   ]
  },
  {
   "cell_type": "code",
   "execution_count": 70,
   "id": "446ce2e3",
   "metadata": {},
   "outputs": [],
   "source": [
    "seller.loc[:,\"seller_city\"] = fix_char(replaced_char, seller[\"seller_city\"])"
   ]
  },
  {
   "cell_type": "markdown",
   "id": "6ffda32b",
   "metadata": {},
   "source": [
    "Re-check is there still inconsistent or strange character in the column."
   ]
  },
  {
   "cell_type": "code",
   "execution_count": 71,
   "id": "68df36a6",
   "metadata": {
    "scrolled": true
   },
   "outputs": [
    {
     "name": "stdout",
     "output_type": "stream",
     "text": [
      "{'p', 'r', 't', 'e', 'f', 's', 'n', 'i', 'g', 'o', 'q', 'h', 'z', 'j', 'c', 'd', 'b', 'x', 'l', 'v', 'm', 'a', 'y', 'u'}\n"
     ]
    }
   ],
   "source": [
    "uniq(seller[\"seller_city\"])"
   ]
  },
  {
   "cell_type": "markdown",
   "id": "215bba82",
   "metadata": {},
   "source": [
    "Do the same with *seller_state* column."
   ]
  },
  {
   "cell_type": "code",
   "execution_count": 72,
   "id": "fe42d229",
   "metadata": {
    "scrolled": true
   },
   "outputs": [
    {
     "name": "stdout",
     "output_type": "stream",
     "text": [
      "{'E', 'D', 'I', 'J', 'O', 'P', 'T', 'S', 'M', 'F', 'B', 'G', 'N', 'C', 'R', 'A'}\n"
     ]
    }
   ],
   "source": [
    "uniq(seller[\"seller_state\"])"
   ]
  },
  {
   "cell_type": "markdown",
   "id": "1070fcc4",
   "metadata": {},
   "source": [
    "*seller_city* and *seller_state* values have been fixed and consistent.\n",
    "\n",
    "Then, to know the latitude and longitude of each seller, we have to merge *seller* table with *geolocation* table on *zip_code_prefix*, *city*, and *state* in both tables."
   ]
  },
  {
   "cell_type": "code",
   "execution_count": 73,
   "id": "63f9f2a7",
   "metadata": {},
   "outputs": [],
   "source": [
    "seller_location = pd.merge(seller, \n",
    "                           geolocation,  \n",
    "                           how=\"left\", \n",
    "                           left_on=[\"seller_zip_code_prefix\",\"seller_city\", \"seller_state\"], \n",
    "                           right_on = [\"geolocation_zip_code_prefix\",\"geolocation_city\", \"geolocation_state\"])"
   ]
  },
  {
   "cell_type": "code",
   "execution_count": 74,
   "id": "f3ab419f",
   "metadata": {
    "scrolled": false
   },
   "outputs": [
    {
     "data": {
      "text/html": [
       "<div>\n",
       "<style scoped>\n",
       "    .dataframe tbody tr th:only-of-type {\n",
       "        vertical-align: middle;\n",
       "    }\n",
       "\n",
       "    .dataframe tbody tr th {\n",
       "        vertical-align: top;\n",
       "    }\n",
       "\n",
       "    .dataframe thead th {\n",
       "        text-align: right;\n",
       "    }\n",
       "</style>\n",
       "<table border=\"1\" class=\"dataframe\">\n",
       "  <thead>\n",
       "    <tr style=\"text-align: right;\">\n",
       "      <th></th>\n",
       "      <th>order_id</th>\n",
       "      <th>order_delivered_carrier_date</th>\n",
       "      <th>order_delivered_customer_date</th>\n",
       "      <th>seller_id</th>\n",
       "      <th>seller_zip_code_prefix</th>\n",
       "      <th>seller_city</th>\n",
       "      <th>seller_state</th>\n",
       "      <th>geolocation_zip_code_prefix</th>\n",
       "      <th>geolocation_city</th>\n",
       "      <th>geolocation_state</th>\n",
       "      <th>geolocation_lat</th>\n",
       "      <th>geolocation_lng</th>\n",
       "    </tr>\n",
       "  </thead>\n",
       "  <tbody>\n",
       "    <tr>\n",
       "      <th>0</th>\n",
       "      <td>e481f51cbdc54678b7cc49136f2d6af7</td>\n",
       "      <td>2017-10-04 19:55:00</td>\n",
       "      <td>2017-10-10 21:25:13</td>\n",
       "      <td>3504c0cb71d7fa48d967e0e4c94d59d9</td>\n",
       "      <td>9350.0</td>\n",
       "      <td>maua</td>\n",
       "      <td>SP</td>\n",
       "      <td>9350.0</td>\n",
       "      <td>maua</td>\n",
       "      <td>SP</td>\n",
       "      <td>-23.680884</td>\n",
       "      <td>-46.444255</td>\n",
       "    </tr>\n",
       "    <tr>\n",
       "      <th>1</th>\n",
       "      <td>53cdb2fc8bc7dce0b6741e2150273451</td>\n",
       "      <td>2018-07-26 14:31:00</td>\n",
       "      <td>2018-08-07 15:27:45</td>\n",
       "      <td>289cdb325fb7e7f891c38608bf9e0962</td>\n",
       "      <td>31570.0</td>\n",
       "      <td>belo horizonte</td>\n",
       "      <td>SP</td>\n",
       "      <td>NaN</td>\n",
       "      <td>NaN</td>\n",
       "      <td>NaN</td>\n",
       "      <td>NaN</td>\n",
       "      <td>NaN</td>\n",
       "    </tr>\n",
       "    <tr>\n",
       "      <th>2</th>\n",
       "      <td>47770eb9100c2d0c44946d9cf07ec65d</td>\n",
       "      <td>2018-08-08 13:50:00</td>\n",
       "      <td>2018-08-17 18:06:29</td>\n",
       "      <td>4869f7a5dfa277a7dca6462dcf3b52b2</td>\n",
       "      <td>14840.0</td>\n",
       "      <td>guariba</td>\n",
       "      <td>SP</td>\n",
       "      <td>14840.0</td>\n",
       "      <td>guariba</td>\n",
       "      <td>SP</td>\n",
       "      <td>-21.363473</td>\n",
       "      <td>-48.229588</td>\n",
       "    </tr>\n",
       "    <tr>\n",
       "      <th>3</th>\n",
       "      <td>949d5b44dbf5de918fe9c16f97b45f8a</td>\n",
       "      <td>2017-11-22 13:39:59</td>\n",
       "      <td>2017-12-02 00:28:42</td>\n",
       "      <td>66922902710d126a0e7d26b0e3805106</td>\n",
       "      <td>31842.0</td>\n",
       "      <td>belo horizonte</td>\n",
       "      <td>MG</td>\n",
       "      <td>31842.0</td>\n",
       "      <td>belo horizonte</td>\n",
       "      <td>MG</td>\n",
       "      <td>-19.836871</td>\n",
       "      <td>-43.923241</td>\n",
       "    </tr>\n",
       "    <tr>\n",
       "      <th>4</th>\n",
       "      <td>ad21c59c0840e6cb83a9ceb5573f8159</td>\n",
       "      <td>2018-02-14 19:46:34</td>\n",
       "      <td>2018-02-16 18:17:02</td>\n",
       "      <td>2c9e548be18521d1c43cde1c582c6de8</td>\n",
       "      <td>8752.0</td>\n",
       "      <td>mogi das cruzes</td>\n",
       "      <td>SP</td>\n",
       "      <td>8752.0</td>\n",
       "      <td>mogi das cruzes</td>\n",
       "      <td>SP</td>\n",
       "      <td>-23.541525</td>\n",
       "      <td>-46.262148</td>\n",
       "    </tr>\n",
       "  </tbody>\n",
       "</table>\n",
       "</div>"
      ],
      "text/plain": [
       "                           order_id order_delivered_carrier_date  \\\n",
       "0  e481f51cbdc54678b7cc49136f2d6af7          2017-10-04 19:55:00   \n",
       "1  53cdb2fc8bc7dce0b6741e2150273451          2018-07-26 14:31:00   \n",
       "2  47770eb9100c2d0c44946d9cf07ec65d          2018-08-08 13:50:00   \n",
       "3  949d5b44dbf5de918fe9c16f97b45f8a          2017-11-22 13:39:59   \n",
       "4  ad21c59c0840e6cb83a9ceb5573f8159          2018-02-14 19:46:34   \n",
       "\n",
       "  order_delivered_customer_date                         seller_id  \\\n",
       "0           2017-10-10 21:25:13  3504c0cb71d7fa48d967e0e4c94d59d9   \n",
       "1           2018-08-07 15:27:45  289cdb325fb7e7f891c38608bf9e0962   \n",
       "2           2018-08-17 18:06:29  4869f7a5dfa277a7dca6462dcf3b52b2   \n",
       "3           2017-12-02 00:28:42  66922902710d126a0e7d26b0e3805106   \n",
       "4           2018-02-16 18:17:02  2c9e548be18521d1c43cde1c582c6de8   \n",
       "\n",
       "  seller_zip_code_prefix      seller_city seller_state  \\\n",
       "0                 9350.0             maua           SP   \n",
       "1                31570.0   belo horizonte           SP   \n",
       "2                14840.0          guariba           SP   \n",
       "3                31842.0   belo horizonte           MG   \n",
       "4                 8752.0  mogi das cruzes           SP   \n",
       "\n",
       "   geolocation_zip_code_prefix geolocation_city geolocation_state  \\\n",
       "0                       9350.0             maua                SP   \n",
       "1                          NaN              NaN               NaN   \n",
       "2                      14840.0          guariba                SP   \n",
       "3                      31842.0   belo horizonte                MG   \n",
       "4                       8752.0  mogi das cruzes                SP   \n",
       "\n",
       "   geolocation_lat  geolocation_lng  \n",
       "0       -23.680884       -46.444255  \n",
       "1              NaN              NaN  \n",
       "2       -21.363473       -48.229588  \n",
       "3       -19.836871       -43.923241  \n",
       "4       -23.541525       -46.262148  "
      ]
     },
     "execution_count": 74,
     "metadata": {},
     "output_type": "execute_result"
    }
   ],
   "source": [
    "seller_location.head()"
   ]
  },
  {
   "cell_type": "markdown",
   "id": "72046b52",
   "metadata": {},
   "source": [
    "Next, we will format the table to be more convenient by filtering some unrequired columns and renaming the column name."
   ]
  },
  {
   "cell_type": "code",
   "execution_count": 75,
   "id": "b71024b0",
   "metadata": {},
   "outputs": [],
   "source": [
    "seller_location = seller_location[[\"order_id\",\n",
    "                                   \"order_delivered_carrier_date\",\n",
    "                                   \"order_delivered_customer_date\",\n",
    "                                   \"geolocation_lat\",\n",
    "                                   \"geolocation_lng\"]]\n",
    "\n",
    "seller_location = seller_location.rename(columns = {\"geolocation_lat\":\"seller_lat\",\n",
    "                                                    \"geolocation_lng\":\"seller_lng\"})"
   ]
  },
  {
   "cell_type": "markdown",
   "id": "ddb644af",
   "metadata": {},
   "source": [
    "Now move on to customer data and do the same process."
   ]
  },
  {
   "cell_type": "code",
   "execution_count": 76,
   "id": "a024c132",
   "metadata": {},
   "outputs": [],
   "source": [
    "customer = create_df(get_result(\"SELECT 0,\\\n",
    "                                        order_id,\\\n",
    "                                        order_delivered_carrier_date,\\\n",
    "                                        order_delivered_customer_date,\\\n",
    "                                        customer_id,\\\n",
    "                                        customer_zip_code_prefix,\\\n",
    "                                        customer_city,\\\n",
    "                                        customer_state\\\n",
    "                                FROM olist_order_dataset\\\n",
    "                                JOIN olist_order_customer_dataset USING(customer_id)\"),\n",
    "                                [\n",
    "                                    \"index\",\n",
    "                                    \"order_id\",\n",
    "                                    \"order_delivered_carrier_date\",\n",
    "                                    \"order_delivered_customer_date\",\n",
    "                                    \"customer_id\",\n",
    "                                    \"customer_zip_code_prefix\",\n",
    "                                    \"customer_city\",\n",
    "                                    \"customer_state\"\n",
    "                                ])"
   ]
  },
  {
   "cell_type": "code",
   "execution_count": 77,
   "id": "69f9d45f",
   "metadata": {
    "scrolled": false
   },
   "outputs": [
    {
     "data": {
      "text/html": [
       "<div>\n",
       "<style scoped>\n",
       "    .dataframe tbody tr th:only-of-type {\n",
       "        vertical-align: middle;\n",
       "    }\n",
       "\n",
       "    .dataframe tbody tr th {\n",
       "        vertical-align: top;\n",
       "    }\n",
       "\n",
       "    .dataframe thead th {\n",
       "        text-align: right;\n",
       "    }\n",
       "</style>\n",
       "<table border=\"1\" class=\"dataframe\">\n",
       "  <thead>\n",
       "    <tr style=\"text-align: right;\">\n",
       "      <th></th>\n",
       "      <th>order_id</th>\n",
       "      <th>order_delivered_carrier_date</th>\n",
       "      <th>order_delivered_customer_date</th>\n",
       "      <th>customer_id</th>\n",
       "      <th>customer_zip_code_prefix</th>\n",
       "      <th>customer_city</th>\n",
       "      <th>customer_state</th>\n",
       "    </tr>\n",
       "  </thead>\n",
       "  <tbody>\n",
       "    <tr>\n",
       "      <th>0</th>\n",
       "      <td>e481f51cbdc54678b7cc49136f2d6af7</td>\n",
       "      <td>2017-10-04 19:55:00</td>\n",
       "      <td>2017-10-10 21:25:13</td>\n",
       "      <td>9ef432eb6251297304e76186b10a928d</td>\n",
       "      <td>3149</td>\n",
       "      <td>sao paulo</td>\n",
       "      <td>SP</td>\n",
       "    </tr>\n",
       "    <tr>\n",
       "      <th>1</th>\n",
       "      <td>53cdb2fc8bc7dce0b6741e2150273451</td>\n",
       "      <td>2018-07-26 14:31:00</td>\n",
       "      <td>2018-08-07 15:27:45</td>\n",
       "      <td>b0830fb4747a6c6d20dea0b8c802d7ef</td>\n",
       "      <td>47813</td>\n",
       "      <td>barreiras</td>\n",
       "      <td>BA</td>\n",
       "    </tr>\n",
       "    <tr>\n",
       "      <th>2</th>\n",
       "      <td>47770eb9100c2d0c44946d9cf07ec65d</td>\n",
       "      <td>2018-08-08 13:50:00</td>\n",
       "      <td>2018-08-17 18:06:29</td>\n",
       "      <td>41ce2a54c0b03bf3443c3d931a367089</td>\n",
       "      <td>75265</td>\n",
       "      <td>vianopolis</td>\n",
       "      <td>GO</td>\n",
       "    </tr>\n",
       "    <tr>\n",
       "      <th>3</th>\n",
       "      <td>949d5b44dbf5de918fe9c16f97b45f8a</td>\n",
       "      <td>2017-11-22 13:39:59</td>\n",
       "      <td>2017-12-02 00:28:42</td>\n",
       "      <td>f88197465ea7920adcdbec7375364d82</td>\n",
       "      <td>59296</td>\n",
       "      <td>sao goncalo do amarante</td>\n",
       "      <td>RN</td>\n",
       "    </tr>\n",
       "    <tr>\n",
       "      <th>4</th>\n",
       "      <td>ad21c59c0840e6cb83a9ceb5573f8159</td>\n",
       "      <td>2018-02-14 19:46:34</td>\n",
       "      <td>2018-02-16 18:17:02</td>\n",
       "      <td>8ab97904e6daea8866dbdbc4fb7aad2c</td>\n",
       "      <td>9195</td>\n",
       "      <td>santo andre</td>\n",
       "      <td>SP</td>\n",
       "    </tr>\n",
       "  </tbody>\n",
       "</table>\n",
       "</div>"
      ],
      "text/plain": [
       "                           order_id order_delivered_carrier_date  \\\n",
       "0  e481f51cbdc54678b7cc49136f2d6af7          2017-10-04 19:55:00   \n",
       "1  53cdb2fc8bc7dce0b6741e2150273451          2018-07-26 14:31:00   \n",
       "2  47770eb9100c2d0c44946d9cf07ec65d          2018-08-08 13:50:00   \n",
       "3  949d5b44dbf5de918fe9c16f97b45f8a          2017-11-22 13:39:59   \n",
       "4  ad21c59c0840e6cb83a9ceb5573f8159          2018-02-14 19:46:34   \n",
       "\n",
       "  order_delivered_customer_date                       customer_id  \\\n",
       "0           2017-10-10 21:25:13  9ef432eb6251297304e76186b10a928d   \n",
       "1           2018-08-07 15:27:45  b0830fb4747a6c6d20dea0b8c802d7ef   \n",
       "2           2018-08-17 18:06:29  41ce2a54c0b03bf3443c3d931a367089   \n",
       "3           2017-12-02 00:28:42  f88197465ea7920adcdbec7375364d82   \n",
       "4           2018-02-16 18:17:02  8ab97904e6daea8866dbdbc4fb7aad2c   \n",
       "\n",
       "   customer_zip_code_prefix            customer_city customer_state  \n",
       "0                      3149                sao paulo             SP  \n",
       "1                     47813                barreiras             BA  \n",
       "2                     75265               vianopolis             GO  \n",
       "3                     59296  sao goncalo do amarante             RN  \n",
       "4                      9195              santo andre             SP  "
      ]
     },
     "execution_count": 77,
     "metadata": {},
     "output_type": "execute_result"
    }
   ],
   "source": [
    "customer.head()"
   ]
  },
  {
   "cell_type": "markdown",
   "id": "f09ee769",
   "metadata": {},
   "source": [
    "As we did with the *seller* table, we want to check if there any duplicated data in *customer* table."
   ]
  },
  {
   "cell_type": "code",
   "execution_count": 78,
   "id": "f051388c",
   "metadata": {},
   "outputs": [
    {
     "data": {
      "text/plain": [
       "0"
      ]
     },
     "execution_count": 78,
     "metadata": {},
     "output_type": "execute_result"
    }
   ],
   "source": [
    "customer.duplicated().sum()"
   ]
  },
  {
   "cell_type": "markdown",
   "id": "07051dcb",
   "metadata": {},
   "source": [
    "Turns out there are no duplicated data.\n",
    "\n",
    "Check customer information to see if there are any missing values and unmatched data types."
   ]
  },
  {
   "cell_type": "code",
   "execution_count": 79,
   "id": "a6707989",
   "metadata": {
    "scrolled": true
   },
   "outputs": [
    {
     "name": "stdout",
     "output_type": "stream",
     "text": [
      "<class 'pandas.core.frame.DataFrame'>\n",
      "RangeIndex: 99441 entries, 0 to 99440\n",
      "Data columns (total 7 columns):\n",
      " #   Column                         Non-Null Count  Dtype \n",
      "---  ------                         --------------  ----- \n",
      " 0   order_id                       99441 non-null  object\n",
      " 1   order_delivered_carrier_date   97658 non-null  object\n",
      " 2   order_delivered_customer_date  96476 non-null  object\n",
      " 3   customer_id                    99441 non-null  object\n",
      " 4   customer_zip_code_prefix       99441 non-null  int64 \n",
      " 5   customer_city                  99441 non-null  object\n",
      " 6   customer_state                 99441 non-null  object\n",
      "dtypes: int64(1), object(6)\n",
      "memory usage: 5.3+ MB\n"
     ]
    }
   ],
   "source": [
    "customer.info()"
   ]
  },
  {
   "cell_type": "markdown",
   "id": "648d785d",
   "metadata": {},
   "source": [
    "There are 99441 entries with 7 columns. Some columns seem like have missing values and don't matched data type.\n",
    "\n",
    "First, we want to fix the data type."
   ]
  },
  {
   "cell_type": "code",
   "execution_count": 80,
   "id": "2595e31e",
   "metadata": {
    "scrolled": true
   },
   "outputs": [
    {
     "name": "stdout",
     "output_type": "stream",
     "text": [
      "<class 'pandas.core.frame.DataFrame'>\n",
      "RangeIndex: 99441 entries, 0 to 99440\n",
      "Data columns (total 7 columns):\n",
      " #   Column                         Non-Null Count  Dtype         \n",
      "---  ------                         --------------  -----         \n",
      " 0   order_id                       99441 non-null  object        \n",
      " 1   order_delivered_carrier_date   97658 non-null  datetime64[ns]\n",
      " 2   order_delivered_customer_date  96476 non-null  datetime64[ns]\n",
      " 3   customer_id                    99441 non-null  object        \n",
      " 4   customer_zip_code_prefix       99441 non-null  object        \n",
      " 5   customer_city                  99441 non-null  object        \n",
      " 6   customer_state                 99441 non-null  object        \n",
      "dtypes: datetime64[ns](2), object(5)\n",
      "memory usage: 5.3+ MB\n"
     ]
    }
   ],
   "source": [
    "date_type = [\"order_delivered_carrier_date\",\n",
    "             \"order_delivered_customer_date\"]\n",
    "customer[date_type] = pd.to_datetime(customer[date_type].stack()).unstack()\n",
    "\n",
    "customer = customer.astype({\"customer_zip_code_prefix\": \"object\"})\n",
    "\n",
    "customer.info()"
   ]
  },
  {
   "cell_type": "markdown",
   "id": "6f2fbd28",
   "metadata": {},
   "source": [
    "Next, find out if there are inconsistencies in the customer_city column."
   ]
  },
  {
   "cell_type": "code",
   "execution_count": 81,
   "id": "84f48109",
   "metadata": {},
   "outputs": [
    {
     "name": "stdout",
     "output_type": "stream",
     "text": [
      "{'p', 'r', 't', 'e', '1', 'f', 's', 'k', 'n', 'i', 'g', \"'\", 'o', 'q', 'h', 'z', 'j', 'c', '-', 'd', 'b', 'x', 'l', 'w', 'v', 'm', 'a', 'y', '4', 'u'}\n"
     ]
    }
   ],
   "source": [
    "uniq(customer[\"customer_city\"])"
   ]
  },
  {
   "cell_type": "markdown",
   "id": "5eeb0784",
   "metadata": {},
   "source": [
    "Assign a dictionary required to fix the inconsistent and strange characters."
   ]
  },
  {
   "cell_type": "code",
   "execution_count": 83,
   "id": "d67e0caf",
   "metadata": {},
   "outputs": [],
   "source": [
    "replaced_char = {\"1\":\"\",\n",
    "                 \"4\":\"\",\n",
    "                 \"-\":\"\",\n",
    "                 \"'\":\"\"\n",
    "                }"
   ]
  },
  {
   "cell_type": "markdown",
   "id": "38a159d5",
   "metadata": {},
   "source": [
    "Then, replace and fix the character in the *customer_city* column."
   ]
  },
  {
   "cell_type": "code",
   "execution_count": 84,
   "id": "c88a3f84",
   "metadata": {},
   "outputs": [],
   "source": [
    "customer.loc[:,\"customer_city\"] = fix_char(replaced_char, customer[\"customer_city\"])"
   ]
  },
  {
   "cell_type": "markdown",
   "id": "f7218f99",
   "metadata": {},
   "source": [
    "Re-check if is there still an inconsistent or strange character in the column."
   ]
  },
  {
   "cell_type": "code",
   "execution_count": 85,
   "id": "266ba58a",
   "metadata": {
    "scrolled": true
   },
   "outputs": [
    {
     "name": "stdout",
     "output_type": "stream",
     "text": [
      "{'p', 'r', 't', 'e', 'f', 's', 'k', 'n', 'i', 'g', 'o', 'q', 'h', 'z', 'j', 'c', 'd', 'b', 'x', 'l', 'w', 'v', 'm', 'a', 'y', 'u'}\n"
     ]
    }
   ],
   "source": [
    "uniq(customer[\"customer_city\"])"
   ]
  },
  {
   "cell_type": "markdown",
   "id": "bb71f700",
   "metadata": {},
   "source": [
    "Do the same with the *customer_state* column."
   ]
  },
  {
   "cell_type": "code",
   "execution_count": 86,
   "id": "47924781",
   "metadata": {},
   "outputs": [
    {
     "name": "stdout",
     "output_type": "stream",
     "text": [
      "{'E', 'D', 'I', 'J', 'O', 'P', 'T', 'S', 'L', 'M', 'F', 'B', 'G', 'N', 'C', 'R', 'A'}\n"
     ]
    }
   ],
   "source": [
    "uniq(customer[\"customer_state\"])"
   ]
  },
  {
   "cell_type": "markdown",
   "id": "3e239594",
   "metadata": {},
   "source": [
    "*customer_city* and *customer_state* values have been fixed and consistent.\n",
    "\n",
    "Then, to know the latitude and longitude of each customer, we have to merge the *customer* table with the *geolocation* table on *zip_code_prefix*, *city*, and *state* in both tables."
   ]
  },
  {
   "cell_type": "code",
   "execution_count": 87,
   "id": "69283f1e",
   "metadata": {},
   "outputs": [],
   "source": [
    "customer_location = pd.merge(customer, \n",
    "                             geolocation,\n",
    "                             how=\"left\",\n",
    "                             left_on=[\"customer_zip_code_prefix\",\"customer_city\", \"customer_state\"],\n",
    "                             right_on = [\"geolocation_zip_code_prefix\",\"geolocation_city\", \"geolocation_state\"])"
   ]
  },
  {
   "cell_type": "code",
   "execution_count": 88,
   "id": "b6ab1795",
   "metadata": {
    "scrolled": true
   },
   "outputs": [
    {
     "data": {
      "text/html": [
       "<div>\n",
       "<style scoped>\n",
       "    .dataframe tbody tr th:only-of-type {\n",
       "        vertical-align: middle;\n",
       "    }\n",
       "\n",
       "    .dataframe tbody tr th {\n",
       "        vertical-align: top;\n",
       "    }\n",
       "\n",
       "    .dataframe thead th {\n",
       "        text-align: right;\n",
       "    }\n",
       "</style>\n",
       "<table border=\"1\" class=\"dataframe\">\n",
       "  <thead>\n",
       "    <tr style=\"text-align: right;\">\n",
       "      <th></th>\n",
       "      <th>order_id</th>\n",
       "      <th>order_delivered_carrier_date</th>\n",
       "      <th>order_delivered_customer_date</th>\n",
       "      <th>customer_id</th>\n",
       "      <th>customer_zip_code_prefix</th>\n",
       "      <th>customer_city</th>\n",
       "      <th>customer_state</th>\n",
       "      <th>geolocation_zip_code_prefix</th>\n",
       "      <th>geolocation_city</th>\n",
       "      <th>geolocation_state</th>\n",
       "      <th>geolocation_lat</th>\n",
       "      <th>geolocation_lng</th>\n",
       "    </tr>\n",
       "  </thead>\n",
       "  <tbody>\n",
       "    <tr>\n",
       "      <th>0</th>\n",
       "      <td>e481f51cbdc54678b7cc49136f2d6af7</td>\n",
       "      <td>2017-10-04 19:55:00</td>\n",
       "      <td>2017-10-10 21:25:13</td>\n",
       "      <td>9ef432eb6251297304e76186b10a928d</td>\n",
       "      <td>3149</td>\n",
       "      <td>sao paulo</td>\n",
       "      <td>SP</td>\n",
       "      <td>3149.0</td>\n",
       "      <td>sao paulo</td>\n",
       "      <td>SP</td>\n",
       "      <td>-23.577622</td>\n",
       "      <td>-46.587055</td>\n",
       "    </tr>\n",
       "    <tr>\n",
       "      <th>1</th>\n",
       "      <td>53cdb2fc8bc7dce0b6741e2150273451</td>\n",
       "      <td>2018-07-26 14:31:00</td>\n",
       "      <td>2018-08-07 15:27:45</td>\n",
       "      <td>b0830fb4747a6c6d20dea0b8c802d7ef</td>\n",
       "      <td>47813</td>\n",
       "      <td>barreiras</td>\n",
       "      <td>BA</td>\n",
       "      <td>47813.0</td>\n",
       "      <td>barreiras</td>\n",
       "      <td>BA</td>\n",
       "      <td>-12.186877</td>\n",
       "      <td>-44.540232</td>\n",
       "    </tr>\n",
       "    <tr>\n",
       "      <th>2</th>\n",
       "      <td>47770eb9100c2d0c44946d9cf07ec65d</td>\n",
       "      <td>2018-08-08 13:50:00</td>\n",
       "      <td>2018-08-17 18:06:29</td>\n",
       "      <td>41ce2a54c0b03bf3443c3d931a367089</td>\n",
       "      <td>75265</td>\n",
       "      <td>vianopolis</td>\n",
       "      <td>GO</td>\n",
       "      <td>75265.0</td>\n",
       "      <td>vianopolis</td>\n",
       "      <td>GO</td>\n",
       "      <td>-16.745100</td>\n",
       "      <td>-48.514790</td>\n",
       "    </tr>\n",
       "    <tr>\n",
       "      <th>3</th>\n",
       "      <td>949d5b44dbf5de918fe9c16f97b45f8a</td>\n",
       "      <td>2017-11-22 13:39:59</td>\n",
       "      <td>2017-12-02 00:28:42</td>\n",
       "      <td>f88197465ea7920adcdbec7375364d82</td>\n",
       "      <td>59296</td>\n",
       "      <td>sao goncalo do amarante</td>\n",
       "      <td>RN</td>\n",
       "      <td>59296.0</td>\n",
       "      <td>sao goncalo do amarante</td>\n",
       "      <td>RN</td>\n",
       "      <td>-5.774002</td>\n",
       "      <td>-35.270976</td>\n",
       "    </tr>\n",
       "    <tr>\n",
       "      <th>4</th>\n",
       "      <td>ad21c59c0840e6cb83a9ceb5573f8159</td>\n",
       "      <td>2018-02-14 19:46:34</td>\n",
       "      <td>2018-02-16 18:17:02</td>\n",
       "      <td>8ab97904e6daea8866dbdbc4fb7aad2c</td>\n",
       "      <td>9195</td>\n",
       "      <td>santo andre</td>\n",
       "      <td>SP</td>\n",
       "      <td>9195.0</td>\n",
       "      <td>santo andre</td>\n",
       "      <td>SP</td>\n",
       "      <td>-23.676304</td>\n",
       "      <td>-46.514591</td>\n",
       "    </tr>\n",
       "  </tbody>\n",
       "</table>\n",
       "</div>"
      ],
      "text/plain": [
       "                           order_id order_delivered_carrier_date  \\\n",
       "0  e481f51cbdc54678b7cc49136f2d6af7          2017-10-04 19:55:00   \n",
       "1  53cdb2fc8bc7dce0b6741e2150273451          2018-07-26 14:31:00   \n",
       "2  47770eb9100c2d0c44946d9cf07ec65d          2018-08-08 13:50:00   \n",
       "3  949d5b44dbf5de918fe9c16f97b45f8a          2017-11-22 13:39:59   \n",
       "4  ad21c59c0840e6cb83a9ceb5573f8159          2018-02-14 19:46:34   \n",
       "\n",
       "  order_delivered_customer_date                       customer_id  \\\n",
       "0           2017-10-10 21:25:13  9ef432eb6251297304e76186b10a928d   \n",
       "1           2018-08-07 15:27:45  b0830fb4747a6c6d20dea0b8c802d7ef   \n",
       "2           2018-08-17 18:06:29  41ce2a54c0b03bf3443c3d931a367089   \n",
       "3           2017-12-02 00:28:42  f88197465ea7920adcdbec7375364d82   \n",
       "4           2018-02-16 18:17:02  8ab97904e6daea8866dbdbc4fb7aad2c   \n",
       "\n",
       "  customer_zip_code_prefix            customer_city customer_state  \\\n",
       "0                     3149                sao paulo             SP   \n",
       "1                    47813                barreiras             BA   \n",
       "2                    75265               vianopolis             GO   \n",
       "3                    59296  sao goncalo do amarante             RN   \n",
       "4                     9195              santo andre             SP   \n",
       "\n",
       "   geolocation_zip_code_prefix         geolocation_city geolocation_state  \\\n",
       "0                       3149.0                sao paulo                SP   \n",
       "1                      47813.0                barreiras                BA   \n",
       "2                      75265.0               vianopolis                GO   \n",
       "3                      59296.0  sao goncalo do amarante                RN   \n",
       "4                       9195.0              santo andre                SP   \n",
       "\n",
       "   geolocation_lat  geolocation_lng  \n",
       "0       -23.577622       -46.587055  \n",
       "1       -12.186877       -44.540232  \n",
       "2       -16.745100       -48.514790  \n",
       "3        -5.774002       -35.270976  \n",
       "4       -23.676304       -46.514591  "
      ]
     },
     "execution_count": 88,
     "metadata": {},
     "output_type": "execute_result"
    }
   ],
   "source": [
    "customer_location.head()"
   ]
  },
  {
   "cell_type": "markdown",
   "id": "17b12472",
   "metadata": {},
   "source": [
    "Next, we will format the table to be more convenient by filtering some unrequired columns and renaming the column name."
   ]
  },
  {
   "cell_type": "code",
   "execution_count": 89,
   "id": "10a5d8fa",
   "metadata": {},
   "outputs": [],
   "source": [
    "customer_location = customer_location[[\"order_id\",\n",
    "                                       \"order_delivered_carrier_date\",\n",
    "                                       \"order_delivered_customer_date\",\n",
    "                                       \"geolocation_lat\",\n",
    "                                       \"geolocation_lng\"]]\n",
    "\n",
    "customer_location = customer_location.rename(columns = {\"geolocation_lat\":\"customer_lat\",\n",
    "                                                        \"geolocation_lng\":\"customer_lng\"})"
   ]
  },
  {
   "cell_type": "markdown",
   "id": "c4593a2c",
   "metadata": {},
   "source": [
    "We are almost there! Then, join the seller table and customer table to calculate the distance between the seller and the customer later."
   ]
  },
  {
   "cell_type": "code",
   "execution_count": 90,
   "id": "840afcee",
   "metadata": {},
   "outputs": [],
   "source": [
    "figure_5 = pd.merge(customer_location, \n",
    "                    seller_location,  \n",
    "                    how=\"left\", \n",
    "                    left_on=[\"order_id\",\"order_delivered_carrier_date\",\"order_delivered_customer_date\"], \n",
    "                    right_on = [\"order_id\",\"order_delivered_carrier_date\",\"order_delivered_customer_date\"])"
   ]
  },
  {
   "cell_type": "markdown",
   "id": "c9a4c7cf",
   "metadata": {},
   "source": [
    "As we said before, the last part of the cleaning process is to handle missing values."
   ]
  },
  {
   "cell_type": "code",
   "execution_count": 91,
   "id": "46666d32",
   "metadata": {},
   "outputs": [
    {
     "data": {
      "text/plain": [
       "order_id                            0\n",
       "order_delivered_carrier_date     1784\n",
       "order_delivered_customer_date    2968\n",
       "customer_lat                      480\n",
       "customer_lng                      480\n",
       "seller_lat                       2427\n",
       "seller_lng                       2427\n",
       "dtype: int64"
      ]
     },
     "execution_count": 91,
     "metadata": {},
     "output_type": "execute_result"
    }
   ],
   "source": [
    "figure_5.isna().sum()"
   ]
  },
  {
   "cell_type": "markdown",
   "id": "706033e3",
   "metadata": {},
   "source": [
    "Almost all columns have missing values. We want to drop all rows with at least 1 missing value, but before that, we have to know what percentage of data to drop. If the data we want to drop is pretty much compared to all the data, we have to try another method to handle the missing value instead of dropping the data."
   ]
  },
  {
   "cell_type": "code",
   "execution_count": 92,
   "id": "c67a900f",
   "metadata": {},
   "outputs": [
    {
     "name": "stdout",
     "output_type": "stream",
     "text": [
      "Missing value percentage : 4.99%\n"
     ]
    }
   ],
   "source": [
    "missing_value = figure_5.isna().any(axis = 1).sum()\n",
    "\n",
    "print(f\"Missing value percentage : {missing_value / len(figure_5) * 100:.2f}%\")"
   ]
  },
  {
   "cell_type": "markdown",
   "id": "8dac38ea",
   "metadata": {},
   "source": [
    "Because the missing value in the data is less than 5%, hence we can drop the data.\n",
    "\n",
    "\n",
    "*Generally, if less than 5% of values are missing then it is acceptable to ignore them. (source: [Working with Missing Data](https://pressbooks.library.upei.ca/montelpare/chapter/working-with-missing-data/#:~:text=Generally%2C%20if%20less%20than%205,to%20which%20data%20is%20missing.))*"
   ]
  },
  {
   "cell_type": "code",
   "execution_count": 93,
   "id": "0b489099",
   "metadata": {},
   "outputs": [],
   "source": [
    "figure_5 = figure_5.dropna()"
   ]
  },
  {
   "cell_type": "markdown",
   "id": "236b8eb5",
   "metadata": {},
   "source": [
    "After that, calculate delivery time by substracted *order_delivered_carrier_date* column from the *order_delivered_customer_date* column."
   ]
  },
  {
   "cell_type": "code",
   "execution_count": 94,
   "id": "26deebf7",
   "metadata": {
    "scrolled": false
   },
   "outputs": [],
   "source": [
    "figure_5[\"delivery_time (days)\"] = (figure_5[\"order_delivered_customer_date\"].dt.date - \\\n",
    "                                    figure_5[\"order_delivered_carrier_date\"].dt.date).astype(\"timedelta64[D]\")"
   ]
  },
  {
   "cell_type": "markdown",
   "id": "dd5a9849",
   "metadata": {},
   "source": [
    "Next, we have to define a function to calculate distance between seller and customer."
   ]
  },
  {
   "cell_type": "code",
   "execution_count": 95,
   "id": "100835cf",
   "metadata": {},
   "outputs": [],
   "source": [
    "def distancer(row):\n",
    "    \"\"\"\n",
    "    Parameters\n",
    "    ==========\n",
    "    row : row that have 2 latitude and 2 longitude to measure\n",
    "    \"\"\"\n",
    "    \n",
    "    coords_1 = (row[\"seller_lat\"], row[\"seller_lng\"])\n",
    "    coords_2 = (row[\"customer_lat\"], row[\"customer_lng\"])\n",
    "    return geopy.distance.geodesic(coords_1, coords_2).km"
   ]
  },
  {
   "cell_type": "markdown",
   "id": "e633cc93",
   "metadata": {},
   "source": [
    "Then, apply the function to calculate the distance."
   ]
  },
  {
   "cell_type": "code",
   "execution_count": 96,
   "id": "42913b18",
   "metadata": {},
   "outputs": [],
   "source": [
    "figure_5[\"distance (km)\"] = figure_5.apply(distancer, axis = 1)"
   ]
  },
  {
   "cell_type": "markdown",
   "id": "2d1f2f6c",
   "metadata": {},
   "source": [
    "As we did before, we'll check if there any outlier in the data."
   ]
  },
  {
   "cell_type": "code",
   "execution_count": 97,
   "id": "4796816e",
   "metadata": {},
   "outputs": [
    {
     "data": {
      "text/html": [
       "<div>\n",
       "<style scoped>\n",
       "    .dataframe tbody tr th:only-of-type {\n",
       "        vertical-align: middle;\n",
       "    }\n",
       "\n",
       "    .dataframe tbody tr th {\n",
       "        vertical-align: top;\n",
       "    }\n",
       "\n",
       "    .dataframe thead th {\n",
       "        text-align: right;\n",
       "    }\n",
       "</style>\n",
       "<table border=\"1\" class=\"dataframe\">\n",
       "  <thead>\n",
       "    <tr style=\"text-align: right;\">\n",
       "      <th></th>\n",
       "      <th>delivery_time (days)</th>\n",
       "      <th>distance (km)</th>\n",
       "    </tr>\n",
       "  </thead>\n",
       "  <tbody>\n",
       "    <tr>\n",
       "      <th>count</th>\n",
       "      <td>95753.000000</td>\n",
       "      <td>95753.000000</td>\n",
       "    </tr>\n",
       "    <tr>\n",
       "      <th>mean</th>\n",
       "      <td>9.244295</td>\n",
       "      <td>599.326944</td>\n",
       "    </tr>\n",
       "    <tr>\n",
       "      <th>std</th>\n",
       "      <td>8.754828</td>\n",
       "      <td>591.339735</td>\n",
       "    </tr>\n",
       "    <tr>\n",
       "      <th>min</th>\n",
       "      <td>-16.000000</td>\n",
       "      <td>0.000000</td>\n",
       "    </tr>\n",
       "    <tr>\n",
       "      <th>25%</th>\n",
       "      <td>4.000000</td>\n",
       "      <td>187.814888</td>\n",
       "    </tr>\n",
       "    <tr>\n",
       "      <th>50%</th>\n",
       "      <td>7.000000</td>\n",
       "      <td>433.630787</td>\n",
       "    </tr>\n",
       "    <tr>\n",
       "      <th>75%</th>\n",
       "      <td>12.000000</td>\n",
       "      <td>797.168727</td>\n",
       "    </tr>\n",
       "    <tr>\n",
       "      <th>max</th>\n",
       "      <td>205.000000</td>\n",
       "      <td>8652.113516</td>\n",
       "    </tr>\n",
       "  </tbody>\n",
       "</table>\n",
       "</div>"
      ],
      "text/plain": [
       "       delivery_time (days)  distance (km)\n",
       "count          95753.000000   95753.000000\n",
       "mean               9.244295     599.326944\n",
       "std                8.754828     591.339735\n",
       "min              -16.000000       0.000000\n",
       "25%                4.000000     187.814888\n",
       "50%                7.000000     433.630787\n",
       "75%               12.000000     797.168727\n",
       "max              205.000000    8652.113516"
      ]
     },
     "execution_count": 97,
     "metadata": {},
     "output_type": "execute_result"
    }
   ],
   "source": [
    "figure_5[[\"delivery_time (days)\", \"distance (km)\"]].describe()"
   ]
  },
  {
   "cell_type": "code",
   "execution_count": 98,
   "id": "ca0242af",
   "metadata": {},
   "outputs": [
    {
     "data": {
      "image/png": "[encoded data removed]",
      "text/plain": [
       "<Figure size 432x288 with 1 Axes>"
      ]
     },
     "metadata": {
      "needs_background": "light"
     },
     "output_type": "display_data"
    }
   ],
   "source": [
    "sns.scatterplot(x = figure_5[\"delivery_time (days)\"], y = figure_5[\"distance (km)\"])\n",
    "plt.show()"
   ]
  },
  {
   "cell_type": "markdown",
   "id": "9f05fc42",
   "metadata": {},
   "source": [
    "Okay, we'll explain for the two variables above:\n",
    "\n",
    "For the *delivery_time (days)* columns, as explained before, the negative values and big values in this data are so strange. So, to handle the outliers in this case, we have to filter the negative values and replace the extreme values with their 0.99 percentile.\n",
    "\n",
    "For the *distance (km)* column, as we can see in the statistics descriptive, the 75th distance value (Q3) is far enough from the maximum value. As well as from the scatterplot there are values that are far enough from the other common values. It means there are outliers and we have to handle them. If we see from the measurement, there's no problem with the small values, so we\"ll only filter the big values. Because a long-distance delivery is very likely to happen in the delivery, we won't replace the outliers, instead we will drop them so that these values don't affect the representation of overall values."
   ]
  },
  {
   "cell_type": "code",
   "execution_count": 99,
   "id": "f2a80ca0",
   "metadata": {
    "scrolled": false
   },
   "outputs": [],
   "source": [
    "figure_5 = handle_outliers(figure_5, \"delivery_time (days)\", \"imputation\")"
   ]
  },
  {
   "cell_type": "code",
   "execution_count": 100,
   "id": "140335bd",
   "metadata": {},
   "outputs": [],
   "source": [
    "figure_5 = handle_outliers(figure_5, \"distance (km)\", \"filter\")"
   ]
  },
  {
   "cell_type": "markdown",
   "id": "c3a9db3b",
   "metadata": {},
   "source": [
    "Re-check the statistic descriptive and outliers of the data."
   ]
  },
  {
   "cell_type": "code",
   "execution_count": 101,
   "id": "1d6e1a60",
   "metadata": {},
   "outputs": [
    {
     "data": {
      "text/html": [
       "<div>\n",
       "<style scoped>\n",
       "    .dataframe tbody tr th:only-of-type {\n",
       "        vertical-align: middle;\n",
       "    }\n",
       "\n",
       "    .dataframe tbody tr th {\n",
       "        vertical-align: top;\n",
       "    }\n",
       "\n",
       "    .dataframe thead th {\n",
       "        text-align: right;\n",
       "    }\n",
       "</style>\n",
       "<table border=\"1\" class=\"dataframe\">\n",
       "  <thead>\n",
       "    <tr style=\"text-align: right;\">\n",
       "      <th></th>\n",
       "      <th>delivery_time (days)</th>\n",
       "      <th>distance (km)</th>\n",
       "    </tr>\n",
       "  </thead>\n",
       "  <tbody>\n",
       "    <tr>\n",
       "      <th>count</th>\n",
       "      <td>94759.000000</td>\n",
       "      <td>94759.000000</td>\n",
       "    </tr>\n",
       "    <tr>\n",
       "      <th>mean</th>\n",
       "      <td>8.989827</td>\n",
       "      <td>577.696964</td>\n",
       "    </tr>\n",
       "    <tr>\n",
       "      <th>std</th>\n",
       "      <td>7.470404</td>\n",
       "      <td>552.177887</td>\n",
       "    </tr>\n",
       "    <tr>\n",
       "      <th>min</th>\n",
       "      <td>0.000000</td>\n",
       "      <td>0.000000</td>\n",
       "    </tr>\n",
       "    <tr>\n",
       "      <th>25%</th>\n",
       "      <td>4.000000</td>\n",
       "      <td>181.558688</td>\n",
       "    </tr>\n",
       "    <tr>\n",
       "      <th>50%</th>\n",
       "      <td>7.000000</td>\n",
       "      <td>428.127540</td>\n",
       "    </tr>\n",
       "    <tr>\n",
       "      <th>75%</th>\n",
       "      <td>12.000000</td>\n",
       "      <td>780.117066</td>\n",
       "    </tr>\n",
       "    <tr>\n",
       "      <th>max</th>\n",
       "      <td>41.000000</td>\n",
       "      <td>2472.957027</td>\n",
       "    </tr>\n",
       "  </tbody>\n",
       "</table>\n",
       "</div>"
      ],
      "text/plain": [
       "       delivery_time (days)  distance (km)\n",
       "count          94759.000000   94759.000000\n",
       "mean               8.989827     577.696964\n",
       "std                7.470404     552.177887\n",
       "min                0.000000       0.000000\n",
       "25%                4.000000     181.558688\n",
       "50%                7.000000     428.127540\n",
       "75%               12.000000     780.117066\n",
       "max               41.000000    2472.957027"
      ]
     },
     "execution_count": 101,
     "metadata": {},
     "output_type": "execute_result"
    }
   ],
   "source": [
    "figure_5[[\"delivery_time (days)\", \"distance (km)\"]].describe()"
   ]
  },
  {
   "cell_type": "code",
   "execution_count": 102,
   "id": "be3fd044",
   "metadata": {
    "scrolled": false
   },
   "outputs": [
    {
     "data": {
      "image/png": "[encoded data removed]",
      "text/plain": [
       "<Figure size 432x288 with 1 Axes>"
      ]
     },
     "metadata": {
      "needs_background": "light"
     },
     "output_type": "display_data"
    }
   ],
   "source": [
    "sns.scatterplot(x = figure_5[\"delivery_time (days)\"], y = figure_5[\"distance (km)\"])\n",
    "plt.show()"
   ]
  },
  {
   "cell_type": "markdown",
   "id": "34f58036",
   "metadata": {},
   "source": [
    "Now, the values are not too far from each other, but the points on the scatter plot be overlapping so we can't see how the correlation of the data. Hence, we have to measure the correlation between *distance (km)* and *delivery_time (days)*."
   ]
  },
  {
   "cell_type": "code",
   "execution_count": 103,
   "id": "c6bc76b4",
   "metadata": {},
   "outputs": [],
   "source": [
    "corr_figure_5 = figure_5[[\"delivery_time (days)\",\"distance (km)\"]].corr()"
   ]
  },
  {
   "cell_type": "markdown",
   "id": "2df947bb",
   "metadata": {},
   "source": [
    "The correlation is visualized below:"
   ]
  },
  {
   "cell_type": "code",
   "execution_count": 104,
   "id": "e2296394",
   "metadata": {},
   "outputs": [
    {
     "data": {
      "image/png": "[encoded data removed]",
      "text/plain": [
       "<Figure size 432x288 with 2 Axes>"
      ]
     },
     "metadata": {
      "needs_background": "light"
     },
     "output_type": "display_data"
    }
   ],
   "source": [
    "# plot the data correlation\n",
    "sns.heatmap(corr_figure_5, annot = True, cmap = \"flare\", vmin = 0, vmax = 1)\n",
    "\n",
    "# format y-axis\n",
    "plt.yticks(va = \"center\")\n",
    "\n",
    "plt.show()"
   ]
  },
  {
   "cell_type": "markdown",
   "id": "e434689c",
   "metadata": {},
   "source": [
    "Based on the figure above, the coefficient correlation between *distance (km)* and *delivery_time (days)* is 0.46, which means the two variables have a moderate correlation."
   ]
  }
 ],
 "metadata": {
  "kernelspec": {
   "display_name": "Python 3",
   "language": "python",
   "name": "python3"
  },
  "language_info": {
   "codemirror_mode": {
    "name": "ipython",
    "version": 3
   },
   "file_extension": ".py",
   "mimetype": "text/x-python",
   "name": "python",
   "nbconvert_exporter": "python",
   "pygments_lexer": "ipython3",
   "version": "3.8.8"
  }
 },
 "nbformat": 4,
 "nbformat_minor": 5
}
